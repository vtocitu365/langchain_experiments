{
 "cells": [
  {
   "cell_type": "code",
   "execution_count": 1,
   "id": "35bb3fcc-3f1f-4af1-bc31-d386b523873c",
   "metadata": {},
   "outputs": [
    {
     "name": "stderr",
     "output_type": "stream",
     "text": [
      "D:\\projects\\venv\\Lib\\site-packages\\pinecone\\index.py:4: TqdmExperimentalWarning: Using `tqdm.autonotebook.tqdm` in notebook mode. Use `tqdm.tqdm` instead to force console mode (e.g. in jupyter console)\n",
      "  from tqdm.autonotebook import tqdm\n"
     ]
    }
   ],
   "source": [
    "import os\n",
    "import numpy as np\n",
    "from langchain.agents import *\n",
    "from langchain.llms import OpenAI\n",
    "from dotenv import load_dotenv, find_dotenv\n",
    "import torch\n",
    "from langchain.document_loaders import PyPDFLoader, Docx2txtLoader, WikipediaLoader, TextLoader\n",
    "from langchain import PromptTemplate\n",
    "\n",
    "# Chains\n",
    "from langchain.chat_models import ChatOpenAI\n",
    "from langchain.chains import LLMChain, SimpleSequentialChain, RetrievalQA\n",
    "from langchain.chains.summarize import load_summarize_chain\n",
    "\n",
    "#Vectorstore\n",
    "import tiktoken\n",
    "import pinecone \n",
    "from langchain.vectorstores import Pinecone\n",
    "from langchain.embeddings.openai import OpenAIEmbeddings\n",
    "from langchain.vectorstores import Chroma\n",
    "from langchain.embeddings import HuggingFaceEmbeddings, SentenceTransformerEmbeddings, HuggingFaceInstructEmbeddings\n",
    "#sql and json\n",
    "from langchain.sql_database import SQLDatabase\n",
    "\n",
    "#Agents\n",
    "from langchain.agents import initialize_agent, Tool\n",
    "from langchain.utilities import WikipediaAPIWrapper\n",
    "from langchain.document_loaders import PyPDFLoader, Docx2txtLoader, WikipediaLoader, TextLoader\n",
    "from langchain.vectorstores import FAISS\n",
    "from langchain.text_splitter import RecursiveCharacterTextSplitter, CharacterTextSplitter\n",
    "\n",
    "load_dotenv(find_dotenv(), override=True)\n",
    "device = torch.device('cuda:0' if torch.cuda.is_available() else 'cpu')\n",
    "pinecone.init(api_key=os.environ.get(\"PINECONE_API_KEY\"), environment=os.environ.get(\"PINECONE_ENV\"))"
   ]
  },
  {
   "cell_type": "code",
   "execution_count": 2,
   "id": "aabd7ad8-6aa6-4ba1-b1a8-db3f4f9cdcf6",
   "metadata": {},
   "outputs": [],
   "source": [
    "# Load Documents and vectorize\n",
    "def val_load_llm_docs(file):\n",
    "    name, extension = os.path.splitext(file)\n",
    "    if extension == '.pdf':\n",
    "        loader = PyPDFLoader(file)\n",
    "    elif extension == '.docx':\n",
    "        loader = Docx2txtLoader(file)\n",
    "    elif extension == '.txt':\n",
    "        loader = TextLoader(file, encoding='utf-8')\n",
    "    else:\n",
    "        return None\n",
    "    data=loader.load()\n",
    "    return data\n",
    "\n",
    "def llm_load_from_wikipedia(query, lang='en', load_max_docs=2):\n",
    "    loader = WikipediaLoader(query=query, lang=lang, load_max_docs=load_max_docs)\n",
    "    data=loader.load()\n",
    "    return data\n",
    "\n",
    "# Text Splitter\n",
    "\n",
    "def llm_chunk_data(data, chunk_size=10000):\n",
    "    text_splitter = RecursiveCharacterTextSplitter(chunk_size=chunk_size, chunk_overlap=20)\n",
    "    chunks = text_splitter.split_documents(data)\n",
    "    return chunks\n",
    "\n",
    "def llm_embeddings(hugh_embed, chunks, vector_dim=4096):\n",
    "    \n",
    "    index_name='vtoc'\n",
    "    if index_name in pinecone.list_indexes():\n",
    "        vector_store = Pinecone.from_existing_index(index_name,hugh_embed)\n",
    "        #Pinecone.from_documents(documents=chunks, embedding=hug_embed, index_name=index_name)\n",
    "    else:\n",
    "        vector_store=FAISS.from_documents(chunks, hugh_embed)\n",
    "        #vector_store = Chroma.from_documents(chunks, hugh_embed)\n",
    "        pinecone.create_index(index_name, dimension=vector_dim, metric='cosine')\n",
    "        Pinecone.from_documents(documents=chunks, embedding=hugh_embed, index_name=index_name) #dun=384. This is the class\n",
    "    \n",
    "    return vector_store\n"
   ]
  },
  {
   "cell_type": "markdown",
   "id": "8e445832",
   "metadata": {},
   "source": [
    "# OpenAI"
   ]
  },
  {
   "cell_type": "code",
   "execution_count": 2,
   "id": "b7ee0aba-2bad-4542-854e-6301bbce1291",
   "metadata": {},
   "outputs": [
    {
     "name": "stdout",
     "output_type": "stream",
     "text": [
      "6\n",
      "\n",
      "\n",
      "Tesla Motors is an American automotive and energy company that designs, manufactures, and sells electric vehicles, energy storage systems, and solar panels.\n"
     ]
    },
    {
     "data": {
      "text/plain": [
       "(None, None)"
      ]
     },
     "execution_count": 2,
     "metadata": {},
     "output_type": "execute_result"
    }
   ],
   "source": [
    "# Get num tokens and generate text\n",
    "llm=OpenAI(model_name='text-davinci-003', temperature=0, max_tokens=512)\n",
    "first_query=['Describe SpaceX in one sentence', 'Describe Tesla Motors in one sentence']\n",
    "num_tokens = llm.get_num_tokens(first_query[0])\n",
    "first_ans = llm.generate(first_query)\n",
    "print(num_tokens), print(first_ans.generations[1][0].text)"
   ]
  },
  {
   "cell_type": "markdown",
   "id": "fd43114c-5c6f-4648-8d07-a3525a6a2601",
   "metadata": {},
   "source": [
    "## Sequential Chains"
   ]
  },
  {
   "cell_type": "code",
   "execution_count": 15,
   "id": "e4003e27",
   "metadata": {},
   "outputs": [
    {
     "data": {
      "text/plain": [
       "'\\nMars is the fourth planet from the Sun and the second-smallest planet in the Solar System. It is a terrestrial planet with a thin atmosphere composed primarily of carbon dioxide. It has a reddish hue due to the presence of iron oxide (rust) on its surface. Mars has two moons, Phobos and Deimos, which are small and irregularly shaped.\\n\\nMars has a number of features that make it an interesting target for exploration. It has the largest mountain in the Solar System, Olympus Mons, which is three times the height of Mount Everest. It also has the deepest and longest canyon in the Solar System, Valles Marineris. Mars also has evidence of past water activity, including dried-up riverbeds and lakebeds.\\n\\nMars is the only planet in the Solar System that has been explored by spacecraft. The first successful mission to Mars was the Mariner 4 spacecraft in 1965. Since then, numerous spacecraft have been sent to Mars, including the Viking landers, the Mars Pathfinder, and the Mars Exploration Rovers. These missions have provided us with a wealth of data about the planet, including its geology, atmosphere, and potential for habitability.\\n\\nMars is an exciting target for future exploration. NASA is currently planning a mission to send humans to Mars in the 2030s. This mission will be the first of its kind and will provide us with an unprecedented opportunity to explore the Red Planet.'"
      ]
     },
     "execution_count": 15,
     "metadata": {},
     "output_type": "execute_result"
    }
   ],
   "source": [
    "# Prompt templates\n",
    "planet_template = '''\n",
    "You are a planetary research scientist. Write a 200 word summary about {planet}.\n",
    "'''\n",
    "planet_prompt = PromptTemplate(input_variables=['planet'], template=planet_template)\n",
    "planet_ans = llm(planet_prompt.format(planet='Mars'))\n",
    "planet_ans"
   ]
  },
  {
   "cell_type": "code",
   "execution_count": 17,
   "id": "f09ca8fc",
   "metadata": {},
   "outputs": [
    {
     "data": {
      "text/plain": [
       "'\\nMars is the fourth planet from the Sun and the second-smallest planet in the Solar System. It is a terrestrial planet with a thin atmosphere composed primarily of carbon dioxide. It has a reddish hue due to the presence of iron oxide (rust) on its surface. Mars has two moons, Phobos and Deimos, which are small and irregularly shaped.\\n\\nMars has a number of features that make it an interesting target for exploration. It has the largest mountain in the Solar System, Olympus Mons, which is three times the height of Mount Everest. It also has the deepest and longest canyon in the Solar System, Valles Marineris. Mars also has evidence of past water activity, including dried-up riverbeds and lakebeds.\\n\\nMars is the only planet in the Solar System that has been explored by spacecraft. The first successful mission to Mars was the Mariner 4 spacecraft in 1965. Since then, numerous spacecraft have been sent to Mars, including the Viking landers, the Mars Pathfinder, and the Mars Exploration Rovers. These missions have provided us with a wealth of data about the planet, including its geology, atmosphere, and potential for habitability.\\n\\nMars is an exciting target for future exploration. NASA is currently planning a mission to send humans to Mars in the 2030s. This mission will be the first of its kind and will provide us with an unprecedented opportunity to explore the Red Planet.'"
      ]
     },
     "execution_count": 17,
     "metadata": {},
     "output_type": "execute_result"
    }
   ],
   "source": [
    "# Simple Chains\n",
    "\n",
    "planet_chain = LLMChain(llm=llm, prompt=planet_prompt)\n",
    "planet_ans2 = planet_chain.run({'planet': 'Mars'})\n",
    "planet_ans2"
   ]
  },
  {
   "cell_type": "code",
   "execution_count": 22,
   "id": "eb09d93b",
   "metadata": {},
   "outputs": [
    {
     "name": "stdout",
     "output_type": "stream",
     "text": [
      "\n",
      "\n",
      "\u001b[1m> Entering new  chain...\u001b[0m\n",
      "\u001b[36;1m\u001b[1;3m\n",
      "Jupiter is the fifth planet from the Sun and the largest in the Solar System. It is a gas giant composed mostly of hydrogen and helium, with a mass two and a half times that of all the other planets combined. Jupiter has a strong magnetic field and is the most massive planet in the Solar System. It has a diameter of 142,984 km, making it 11 times wider than Earth.\n",
      "\n",
      "Jupiter has a complex system of clouds and storms, including the Great Red Spot, a giant storm that has been raging for centuries. The planet has 79 known moons, the four largest of which are Io, Europa, Ganymede, and Callisto. These moons are believed to have formed from a collision between Jupiter and a large object in the early Solar System.\n",
      "\n",
      "Jupiter's atmosphere is composed of mostly hydrogen and helium, with trace amounts of other elements. The planet's interior is believed to be composed of a rocky core surrounded by a layer of liquid metallic hydrogen. Jupiter's gravity is strong enough to pull in objects from the asteroid belt and beyond, making it a major source of meteorites.\n",
      "\n",
      "Jupiter is an important part of the Solar System, and its study has provided us with valuable insights into the formation and evolution of the Solar System. Its moons are of particular interest, as they may contain evidence of life beyond Earth.\u001b[0m\n",
      "\u001b[33;1m\u001b[1;3m\n",
      "Ganymede is the largest moon of Jupiter and the largest moon in the Solar System. It is the only moon known to have its own magnetic field. Ganymede is composed of a rocky core surrounded by an icy mantle and a thin atmosphere. It is believed to have formed from the collision of two objects in the early Solar System.\n",
      "\n",
      "Ganymede is the only moon in the Solar System known to have its own magnetic field, which is generated by its core. This magnetic field protects Ganymede from the charged particles of Jupiter's magnetosphere. Ganymede is also the only moon known to have an atmosphere, which is composed of oxygen and other trace elements.\n",
      "\n",
      "Ganymede is the most heavily cratered moon in the Solar System, with over 400 impact craters. Its surface is also covered with grooves and ridges, which are believed to be the result of tectonic activity. Ganymede is also home to a number of subsurface oceans, which may contain evidence of life beyond Earth.\n",
      "\n",
      "Ganymede is an important part of the Solar System, and its study has provided us with valuable insights into the formation and evolution of the Solar System. Its magnetic field, atmosphere, and subsurface oceans make it an intriguing target for future exploration.\u001b[0m\n",
      "\n",
      "\u001b[1m> Finished chain.\u001b[0m\n"
     ]
    },
    {
     "data": {
      "text/plain": [
       "\"\\nGanymede is the largest moon of Jupiter and the largest moon in the Solar System. It is the only moon known to have its own magnetic field. Ganymede is composed of a rocky core surrounded by an icy mantle and a thin atmosphere. It is believed to have formed from the collision of two objects in the early Solar System.\\n\\nGanymede is the only moon in the Solar System known to have its own magnetic field, which is generated by its core. This magnetic field protects Ganymede from the charged particles of Jupiter's magnetosphere. Ganymede is also the only moon known to have an atmosphere, which is composed of oxygen and other trace elements.\\n\\nGanymede is the most heavily cratered moon in the Solar System, with over 400 impact craters. Its surface is also covered with grooves and ridges, which are believed to be the result of tectonic activity. Ganymede is also home to a number of subsurface oceans, which may contain evidence of life beyond Earth.\\n\\nGanymede is an important part of the Solar System, and its study has provided us with valuable insights into the formation and evolution of the Solar System. Its magnetic field, atmosphere, and subsurface oceans make it an intriguing target for future exploration.\""
      ]
     },
     "execution_count": 22,
     "metadata": {},
     "output_type": "execute_result"
    }
   ],
   "source": [
    "#Sequential Chains\n",
    "planet_llm=OpenAI(model_name='text-davinci-003', temperature=0, max_tokens=1024)\n",
    "moon_template = '''\n",
    "You are a planetary research scientist. Given a planet {planet}, write a 200 word summary about its largest moon.\n",
    "'''\n",
    "moon_prompt = PromptTemplate(input_variables=['planet'], template=moon_template)\n",
    "moon_chain = LLMChain(llm=llm, prompt=moon_prompt)\n",
    "planetary_system_chain = SimpleSequentialChain(chains=[planet_chain, moon_chain], verbose=True)\n",
    "planetary_system_chain.run('Jupiter')"
   ]
  },
  {
   "cell_type": "markdown",
   "id": "86cae9b2-718a-47a0-b1ee-b4834001595a",
   "metadata": {},
   "source": [
    "## Wikipedia Agent"
   ]
  },
  {
   "cell_type": "code",
   "execution_count": 32,
   "id": "7f797973",
   "metadata": {},
   "outputs": [
    {
     "name": "stdout",
     "output_type": "stream",
     "text": [
      "\n",
      "\n",
      "\u001b[1m> Entering new  chain...\u001b[0m\n",
      "\u001b[32;1m\u001b[1;3m This is a tool, so I need to use it to answer the question.\n",
      "Action: Wikipedia\n",
      "Action Input: The question I need to answer\u001b[0m\n",
      "Observation: \u001b[36;1m\u001b[1;3mPage: Phrases from The Hitchhiker's Guide to the Galaxy\n",
      "Summary: The Hitchhiker's Guide to the Galaxy is a comic science fiction series created by Douglas Adams that has become popular among fans of the genre and members of the scientific community. Phrases from it are widely recognised and often used in reference to, but outside the context of, the source material. Many writers on popular science, such as Fred Alan Wolf, Paul Davies, and Michio Kaku, have used quotations in their books to illustrate facts about cosmology or philosophy.\n",
      "\n",
      "Page: Question\n",
      "Summary: A question is an utterance which serves as a request for information. Questions are sometimes distinguished from interrogatives, which are the grammatical forms typically used to express them. Rhetorical questions, for instance, are interrogative in form but may not be considered bona fide questions, as they are not expected to be answered.\n",
      "Questions come in a number of varieties. Polar questions are those such as the English example \"Is this a polar question?\", which can be answered with \"yes\" or \"no\". Alternative questions such as \"Is this a polar question, or an alternative question?\" present a list of possibilities to choose from. Open questions such as \"What kind of question is this?\" allow many possible resolutions.\n",
      "Questions are widely studied in linguistics and philosophy of language. In the subfield of pragmatics, questions are regarded as illocutionary acts which raise an issue to be resolved in discourse. In approaches to formal semantics such as alternative semantics or inquisitive semantics, questions are regarded as the denotations of interrogatives, and are typically identified as sets of the propositions which answer them.\n",
      "\n",
      "\n",
      "\n",
      "Page: Research question\n",
      "Summary: A research question is \"a question that a research project sets out to answer\". Choosing a research question is an essential element of both quantitative and qualitative research. Investigation will require data collection and analysis, and the methodology for this will vary widely. Good research questions seek to improve knowledge on an important topic, and are usually narrow and specific.To form a research question, one must determine what type of study will be conducted such as a qualitative, quantitative, or mixed study. Additional factors, such as project funding, may not only affect the research question itself but also when and how it is formed during the research process. Literature suggests several variations on criteria selection for constructing a research question, such as the FINER or PICOT methods.\u001b[0m\n",
      "Thought:\u001b[32;1m\u001b[1;3m I now know the final answer\n",
      "Final Answer: A research question is a question that a research project sets out to answer, and is usually narrow and specific. It is important to determine the type of study that will be conducted, such as a qualitative, quantitative, or mixed study, and additional factors such as project funding may affect the research question itself and when and how it is formed during the research process.\u001b[0m\n",
      "\n",
      "\u001b[1m> Finished chain.\u001b[0m\n"
     ]
    },
    {
     "data": {
      "text/plain": [
       "'A research question is a question that a research project sets out to answer, and is usually narrow and specific. It is important to determine the type of study that will be conducted, such as a qualitative, quantitative, or mixed study, and additional factors such as project funding may affect the research question itself and when and how it is formed during the research process.'"
      ]
     },
     "execution_count": 32,
     "metadata": {},
     "output_type": "execute_result"
    }
   ],
   "source": [
    "# Function which uses RetrievalQA\n",
    "def val_llm_qa(vectorstore, llm, q, k=3):\n",
    "    retriever = vectorstore.as_retriever(search_type='similarity', search_kwargs={'k', k})\n",
    "    qa = RetrievalQA.from_chain_type(llm=llm, chain_type='map_rank', retriever=retriever)\n",
    "    ans = qa.run(q)\n",
    "    return ans\n",
    "\n",
    "def val_wiki_agents(tools, llm, q):\n",
    "    agent_executor = initialize_agent(tools, llm, agent='zero-shot-react-description', verbose=True)\n",
    "    ans = agent_executor.run(q)\n",
    "    return ans\n",
    "\n",
    "wiki=WikipediaAPIWrapper()\n",
    "planet_tools = [Tool(name='Wikipedia', func=wiki.run, description='Get summary about topic from Wikipedia')]\n",
    "query = 'Please provide a summary of the rocket Falcon 9'\n",
    "val_wiki_agents(planet_tools, llm, planet_tools)"
   ]
  },
  {
   "cell_type": "markdown",
   "id": "7ed8aa1d-e2fc-4df2-bdf8-9d3c6fe732c7",
   "metadata": {},
   "source": [
    "# Huggingface"
   ]
  },
  {
   "cell_type": "code",
   "execution_count": 3,
   "id": "03de6318-db35-4a96-b444-4ba2967fa179",
   "metadata": {},
   "outputs": [],
   "source": [
    "from langchain.llms import HuggingFacePipeline\n",
    "from langchain.embeddings import HuggingFaceEmbeddings, SentenceTransformerEmbeddings\n",
    "from langchain.text_splitter import CharacterTextSplitter\n",
    "from langchain import HuggingFaceHub\n",
    "from langchain.tools import WikipediaQueryRun\n",
    "from langchain.utilities import WikipediaAPIWrapper"
   ]
  },
  {
   "cell_type": "markdown",
   "id": "f809e093-e50d-4643-acd5-56152545bc86",
   "metadata": {},
   "source": [
    "## Sequential Chains"
   ]
  },
  {
   "cell_type": "code",
   "execution_count": 5,
   "id": "deed7eba-c88c-4b77-8ce7-95d260600e5b",
   "metadata": {},
   "outputs": [
    {
     "name": "stderr",
     "output_type": "stream",
     "text": [
      "D:\\projects\\venv\\Lib\\site-packages\\huggingface_hub\\utils\\_deprecation.py:127: FutureWarning: '__init__' (from 'huggingface_hub.inference_api') is deprecated and will be removed from version '1.0'. `InferenceApi` client is deprecated in favor of the more feature-complete `InferenceClient`. Check out this guide to learn how to convert your script to use it: https://huggingface.co/docs/huggingface_hub/guides/inference#legacy-inferenceapi-client.\n",
      "  warnings.warn(warning_message, FutureWarning)\n"
     ]
    },
    {
     "name": "stdout",
     "output_type": "stream",
     "text": [
      "You are a scientist.\n"
     ]
    }
   ],
   "source": [
    "# Prompt templates\n",
    "\n",
    "flan_model_name=\"google/flan-t5-small\"\n",
    "planet_template = '''\n",
    "You are a planetary research scientist. Write a summary about {planet}.\n",
    "'''\n",
    "planet_prompt = PromptTemplate(input_variables=['planet'], template=planet_template)\n",
    "llm = HuggingFaceHub(repo_id=flan_model_name, model_kwargs={\"temperature\": 0.1, \"max_length\": 200})\n",
    "llm_chain = LLMChain(prompt=planet_prompt, llm=llm)\n",
    "question=\"Jupiter\"\n",
    "print(llm_chain.run(question))"
   ]
  },
  {
   "cell_type": "code",
   "execution_count": 8,
   "id": "f018c1b1-858f-47c7-a197-07395ee5048b",
   "metadata": {},
   "outputs": [
    {
     "data": {
      "text/plain": [
       "'You are a planetary scientist.'"
      ]
     },
     "execution_count": 8,
     "metadata": {},
     "output_type": "execute_result"
    }
   ],
   "source": [
    "planet_chain = LLMChain(llm=llm, prompt=planet_prompt)\n",
    "planet_ans2 = planet_chain.run({'planet': 'Mars'})\n",
    "planet_ans2"
   ]
  },
  {
   "cell_type": "code",
   "execution_count": 9,
   "id": "b172120e-31bf-484f-9ec9-5c71fe0f0be0",
   "metadata": {},
   "outputs": [
    {
     "name": "stdout",
     "output_type": "stream",
     "text": [
      "\n",
      "\n",
      "\u001b[1m> Entering new SimpleSequentialChain chain...\u001b[0m\n",
      "\u001b[36;1m\u001b[1;3mYou are a scientist.\u001b[0m\n",
      "\u001b[33;1m\u001b[1;3ma planetary scientist\u001b[0m\n",
      "\n",
      "\u001b[1m> Finished chain.\u001b[0m\n"
     ]
    },
    {
     "data": {
      "text/plain": [
       "'a planetary scientist'"
      ]
     },
     "execution_count": 9,
     "metadata": {},
     "output_type": "execute_result"
    }
   ],
   "source": [
    "moon_template = '''\n",
    "You are a planetary research scientist. Given a planet {planet}, write a brief 1000 character description summary about its largest moon. Include discussions about the moon's water and diameter\n",
    "'''\n",
    "moon_prompt = PromptTemplate(input_variables=['planet'], template=moon_template)\n",
    "moon_chain = LLMChain(llm=llm, prompt=moon_prompt)\n",
    "planetary_system_chain = SimpleSequentialChain(chains=[planet_chain, moon_chain], verbose=True)\n",
    "planetary_system_chain.run('Jupiter')"
   ]
  },
  {
   "cell_type": "markdown",
   "id": "ed14e8f9-8f4e-4b51-90dc-948188dc4065",
   "metadata": {},
   "source": [
    "## Summarize Paper from Tokyo Tech Research"
   ]
  },
  {
   "cell_type": "code",
   "execution_count": 10,
   "id": "13c83ee9-5cb7-49bd-8a6a-3e38856a307f",
   "metadata": {},
   "outputs": [
    {
     "name": "stdout",
     "output_type": "stream",
     "text": [
      "you have 13 pages in the document\n",
      "you have 3684 characters in this page\n",
      "(Document(page_content='state-space. Aggregating the cluster set under suitable\\nweighting, we obtain a reduced model that preserves\\ninterconnection topology among the clusters as well as\\nsome speciﬁc properties, such as stability, steady-state\\ncharacteristic and system positivity. Furthermore, we\\nhave derived an H2-error bound of the state discrep-\\nancy caused by the aggregation. In addition, applying\\nthe proposed method to chemical reaction systems de-\\nscribed by the chemical master equation, we have ob-\\ntained a mesoscopic model that well approximates the\\noriginal system as well as preserves speciﬁc properties\\nas the chemical master equation.\\nAcknowledgment\\nThis research is partially supported by the Aihara Inno-\\nvative Mathematical Modelling Project, the Japan So-\\nciety for the Promotion of Science (JSPS) through the\\n“Funding Program for World-Leading Innovative R&D\\non Science and Technology (FIRST Program),” initi-\\nated by the Council for Science and Technology Policy\\n(CSTP). This research is also supported by Grant-in-\\nAid for JSPS Fellows. The authors would like to thank\\nD. Cheong from Tokyo Institute of Technology for fruit-\\nful discussion.\\nReferences\\n[1]S. Boccaletti, V. Latora, Y. Moreno, M. Chavez, and D. U.\\nHwang. Complex networks: Structure and dynamics. Physics\\nReports , 424-4-5:175–308, 2006.\\n[2]N. Masuda and N. Konno. Complex Network . Kindai Kagaku\\nsha Co., Ltd, 2010.\\n[3]M. Mesbahi and M. Egerstedt. Graph Theoretic Methods in\\nMultiagent Networks . Princeton Univerwity Press, 2010.\\n[4]A. C. Antoulas. Approximation of Large-Scale Dynamical\\nSystems . Society for Industrial Mathematics, 2005.\\n[5]A. C. Antoulas. An overview of model reduction methods\\nand a new result. In Joint 48th IEEE Conference on Decision\\nand Control and 28th Chinese Control Conference , pages\\n5357–5360, 2009.\\n[6]W. H. A. Schilders and H. A. van der Vorst. Model Order\\nReduction . Springer, 2008.\\n[7]D. F. Enns. Model reduction with balanced realizations: An\\nerror bound and a frequency weighted generalization. In 23rd\\nIEEE Conference on Decision and Control , pages 127–132,\\n1984.\\n[8]D. Mayer. Fractional balanced reduction: Model reduction\\nvia fractional representaton. IEEE Transactions on\\nAutomatic Control , 35-12:1341–1345, 1990.\\n[9]K. Glover. All optimal Hankel-norm approximations of\\nlinear multivariable systems and their L1error bounds.\\nInternational Journal of Control , 39-6:1115–1193, 1984.\\n[10]W. Y. Yan and J. Lam. An approximate approach to H2\\noptimal model reduction. IEEE Transactions on Automatic\\nControl , 44-7:1341–1358, 1999.\\n[11]H. Sandberg and M. Murray. Model reduction of\\ninterconnected linear systems. Optimal Control Applications\\nand Methods , 30-3:225–245, 2009.[12]Y. Genin and K. Sun. A two-variable approach to the\\nmodel reduction problem with Hankel norm criterion. IEEE\\nTransactions on Circuits and Systems , 28-9:912–924, 1981.\\n[13]K. Gallivana, A. Vandendorpe, and P. Van Dooren. Model\\nreduction via truncation: an interpolation point of view.\\nLinear Algebra and its Applications , 375:115–134, 2003.\\n[14]A. Astolﬁ. Model reduction by moment matching for linear\\nand nonlinear systems. IEEE Transactions on Automatic\\nControl , 55-10:2321–2336, 2010.\\n[15]K. Gallivan, A. Vandendorpe, and P. V. Dooren. Model\\nreduction of MIMO systems via tangential interpolation.\\nSIAM Journal on Matrix Analysis and Applications , 26-\\n2:328–349, 2005.\\n[16]A. C. Antoulas, C. A. Beattie, and S. Gugercin. Interpolatory\\nmodel reduction of large-scale dynamical systems . Eﬃcient\\nModeling and Control of Large-Scale Systems, Springer-\\nVerlag, ISBN 978-1-4419-5756-6, 2010.\\n[17]S. Gugercin. Projection methods for model reduction of large-\\nscale dynamical systems . PhD thesis, Rice University, 2002.\\n[18]S. Gugercin and K. Willcox. Krylov projection framework for\\nFourier model reduction. Automatica , 44-1:209–215, 2008.\\n[19]S. Gugercin, A. C. Antoulas, and C. A. Beattie. H2model\\nreduction for large-scale linear dynamical systems. SIAM\\nJournal on Matrix Analysis and Applications , 30-2:609–638,\\n2008.\\n[20]S. Lall, P. Krysl, and J. E. Marsden. Structure-preserving\\nmodel reduction for mechanical systems. Physica D:\\nNonlinear Phenomena , 184-1-4:304–318, 2003.\\n[21]R. C. Li and Z. Bai. Structure-preserving model reduction.\\nApplied Parallel Computing , 3732:323–332, 2006.\\n[22]C. A. Beattie and S. Gugercin. Interpolation theory for\\nstructure-preserving model reduction. In Proceedings of the\\n47th IEEE Conference on Decision and Control , pages 4204–\\n4208, 2008.\\n[23]J. Chow and P. Kokotovic. Time scale modeling of\\nsparse dynamic networks. IEEE Transactions on Automatic\\nControl , 30-8:714–722, 1985.\\n[24]E. Biyik and M. Arcak. Area aggregation and time scale\\nmodeling for sparse nonlinear networks. In 45th IEEE\\nConference on Decision and Control , pages 4046–4051, 2006.\\n[25]P. Twu, M. Egerstedt, and S. Martini. Controllability\\nof homogeneous single-leader networks. In 49th IEEE\\nConference on Decision and Control , pages 5869–5874, 2010.\\n[26]T. Ishizaki, K. Kashima, J. Imura, and K. Aihara. Reaction-\\ndiﬀusion clustering of single-input dynamical networks.\\nIn50th IEEE Conference on Decision and Control, and\\nEuropean Control Conference , pages 7837–7842, 2011.\\n[27]S. Kodama and N. Suda. Matrix Theory for Systems and\\nControl . CORONA PUBLISHING CO., LTD., 1978.\\n[28]A. Astolﬁ and P. Colaneri. A note on the existence of positive\\nrealizations. Linear Algebra and its Applications , 390:329–\\n343, 2004.\\n[29]L. Farina and S. Rinaldi. Positive Linear Systems: Theory\\nand Applications . Wiley-Interscience Publication, 2000.\\n[30]L. Benvenuti and L. Farina. A tutorial on the positive\\nrealization problem. IEEE Transactions on Automatic\\nControl , 49-5:651–664, 2004.\\n[31]S. U. Pillai, T. Suel, and C. Seunghun. The perron-frobenius\\ntheorem: some of its applications. IEEE Signal Processing\\nMagazine , 22-2:62–75, 2005.\\n[32]R. A. Horn and C. R. Johnson. Topics in Matrix Analysis .\\nCambridge University Press, 1994.\\n12', metadata={'page': 11.0, 'source': 'C:/users/vtoci/Documents/Japan/Extra/AutomaticaH2Aggregation4.pdf'}), 0.224311769)\n"
     ]
    }
   ],
   "source": [
    "file='AutomaticaH2Aggregation4.pdf'\n",
    "hug_embeddings = HuggingFaceEmbeddings()\n",
    "val_file=val_load_llm_docs(file)\n",
    "val_chunks = llm_chunk_data(val_file)\n",
    "planet_vectorstore = llm_embeddings(hug_embeddings, val_chunks, vector_dim=386)\n",
    "print(f'you have {len(val_file)} pages in the document')\n",
    "print(f'you have {len(val_file[0].page_content)} characters in this page')\n",
    "query=\"What possible applications does the model have\"\n",
    "jp=planet_vectorstore.similarity_search_with_score(query)\n",
    "print(jp[0])"
   ]
  },
  {
   "cell_type": "markdown",
   "id": "0d01448e-564c-4c4c-9cf2-2c9d632ee6cb",
   "metadata": {},
   "source": [
    "## Inference Client to generate Image"
   ]
  },
  {
   "cell_type": "code",
   "execution_count": 3,
   "id": "8185b2a8-92fa-4744-8c10-42928ef20bd6",
   "metadata": {
    "scrolled": true
   },
   "outputs": [],
   "source": [
    "from huggingface_hub import InferenceClient\n",
    "client = InferenceClient()\n",
    "image = client.text_to_image(\"Dystopian landscape, cyberpunk style, moon around gas giant\")"
   ]
  },
  {
   "cell_type": "code",
   "execution_count": 4,
   "id": "692a5a78-ad5b-4a19-aa09-9b3629c29147",
   "metadata": {
    "scrolled": true
   },
   "outputs": [
    {
     "data": {
      "image/png": "[encoded data removed]",
      "text/plain": [
       "<PIL.JpegImagePlugin.JpegImageFile image mode=RGB size=512x512>"
      ]
     },
     "execution_count": 4,
     "metadata": {},
     "output_type": "execute_result"
    }
   ],
   "source": [
    "image"
   ]
  },
  {
   "cell_type": "markdown",
   "id": "88065e45-cb9a-400f-b82d-47f2793524c1",
   "metadata": {},
   "source": [
    "# LLama-2"
   ]
  },
  {
   "cell_type": "code",
   "execution_count": 4,
   "id": "a5d1e9a6-3d9a-4366-b7c3-77813e1f484a",
   "metadata": {},
   "outputs": [
    {
     "name": "stderr",
     "output_type": "stream",
     "text": [
      "D:\\projects\\venv\\Lib\\site-packages\\bitsandbytes\\cextension.py:34: UserWarning: The installed version of bitsandbytes was compiled without GPU support. 8-bit optimizers, 8-bit multiplication, and GPU quantization are unavailable.\n",
      "  warn(\"The installed version of bitsandbytes was compiled without GPU support. \"\n"
     ]
    },
    {
     "name": "stdout",
     "output_type": "stream",
     "text": [
      "'NoneType' object has no attribute 'cadam32bit_grad_fp32'\n"
     ]
    },
    {
     "data": {
      "application/vnd.jupyter.widget-view+json": {
       "model_id": "6ecb1b1925144fac9508df2d82af9d30",
       "version_major": 2,
       "version_minor": 0
      },
      "text/plain": [
       "Fetching 1 files:   0%|          | 0/1 [00:00<?, ?it/s]"
      ]
     },
     "metadata": {},
     "output_type": "display_data"
    },
    {
     "data": {
      "application/vnd.jupyter.widget-view+json": {
       "model_id": "54e947fff8274f2e97cd4f41667cd0e4",
       "version_major": 2,
       "version_minor": 0
      },
      "text/plain": [
       "Fetching 1 files:   0%|          | 0/1 [00:00<?, ?it/s]"
      ]
     },
     "metadata": {},
     "output_type": "display_data"
    }
   ],
   "source": [
    "from langchain.callbacks.manager import CallbackManager\n",
    "from langchain.callbacks.streaming_stdout import StreamingStdOutCallbackHandler\n",
    "from langchain.chains import LLMChain\n",
    "from langchain.llms import LlamaCpp\n",
    "from langchain.prompts import PromptTemplate\n",
    "from ctransformers import AutoTokenizer, AutoModelForCausalLM\n",
    "import transformers\n",
    "import torch\n",
    "\n",
    "from langchain.callbacks.streaming_stdout import StreamingStdOutCallbackHandler\n",
    "from langchain.llms import CTransformers\n",
    "\n",
    "# Sentence Transform Embeddings\n",
    "import tensorflow\n",
    "from langchain.embeddings import LlamaCppEmbeddings\n",
    "from langchain.chains import ConversationChain\n",
    "from langchain.memory import ConversationBufferMemory, FileChatMessageHistory \n",
    "from langchain.schema import SystemMessage\n",
    "from langchain.prompts import PromptTemplate, HumanMessagePromptTemplate, MessagesPlaceholder\n",
    "from langchain.llms import HuggingFaceHub\n",
    "from langchain.chains import ConversationChain\n",
    "from langchain.memory import ConversationBufferMemory\n",
    "from langchain.chat_models import ChatOpenAI\n",
    "from langchain.chains import LLMChain\n",
    "\n",
    "from langchain.prompts.chat import (\n",
    "    ChatPromptTemplate,\n",
    "    SystemMessagePromptTemplate,\n",
    "    AIMessagePromptTemplate,\n",
    "    HumanMessagePromptTemplate,\n",
    ")\n",
    "import numpy as np\n",
    "from peft import prepare_model_for_kbit_training, LoraConfig, get_peft_model\n",
    "from transformers import AutoTokenizer, AutoModelForCausalLM, AutoConfig, BitsAndBytesConfig, LlamaForCausalLM\n",
    "from datasets import load_dataset\n",
    "\n",
    "llama_model_name=\"TheBloke/Llama-2-13B-Chat-GGUF\"\n",
    "llama_llm = CTransformers(\n",
    "    model=llama_model_name, callbacks=[StreamingStdOutCallbackHandler()]\n",
    ")"
   ]
  },
  {
   "cell_type": "markdown",
   "id": "2d4555f3-cabc-4715-b374-e64b35c1f76b",
   "metadata": {},
   "source": [
    "## Sequential Chain"
   ]
  },
  {
   "cell_type": "code",
   "execution_count": 26,
   "id": "ed5bd988-0215-4843-9a6d-035645d33450",
   "metadata": {},
   "outputs": [
    {
     "name": "stdout",
     "output_type": "stream",
     "text": [
      "Mars is the fourth planet from the sun in the solar system and is known as the Red Planet due to its reddish appearance. The planet has a thin atmosphere made up of mostly carbon dioxide, with temperatures ranging from -125 degrees Celsius at night to 20 degrees Celsius during the day. Mars has two small moons, Phobos and Deimos, which are believed to be captured asteroids. The planet's surface is marked by numerous valleys, craters, and volcanoes, including the massive Olympus Mons, the largest volcano in the solar system. Mars has a complex geological history, with evidence of past water flow and potential for life. The planet's atmosphere is also home to methane, which could be a sign of microbial life. Ongoing research and exploration of Mars continues to uncover new insights into the planet's formation, evolution, and potential for habitability.\n",
      "\n",
      "\u001b[1m> Entering new SimpleSequentialChain chain...\u001b[0m\n",
      "Jupiter is the largest planet in our solar system, and is known for its massive size and powerful storms. The planet has a diameter of approximately 89,000 miles (143,000 kilometers), which is more than 1,300 times larger than Earth. Jupiter's atmosphere is composed primarily of hydrogen and helium, with traces of heavier elements such as methane, ammonia, and water. The planet's surface features a diverse range of geological formations, including the Great Red Spot, a swirling storm that has been raging for centuries. Jupiter's moons, including Io, Europa, Ganymede, and Callisto, are also of great interest to scientists due to their unique geological characteristics and potential for hosting life. Overall, Jupiter is a fascinating and complex planet that continues to be studied by astronomers and planetary scientists.\u001b[36;1m\u001b[1;3mJupiter is the largest planet in our solar system, and is known for its massive size and powerful storms. The planet has a diameter of approximately 89,000 miles (143,000 kilometers), which is more than 1,300 times larger than Earth. Jupiter's atmosphere is composed primarily of hydrogen and helium, with traces of heavier elements such as methane, ammonia, and water. The planet's surface features a diverse range of geological formations, including the Great Red Spot, a swirling storm that has been raging for centuries. Jupiter's moons, including Io, Europa, Ganymede, and Callisto, are also of great interest to scientists due to their unique geological characteristics and potential for hosting life. Overall, Jupiter is a fascinating and complex planet that continues to be studied by astronomers and planetary scientists.\u001b[0m\n",
      "Jupiter's largest moon, Ganymede, is the largest moon in the solar system, even larger than the planet itself. With a diameter of approximately 3,200 miles (5,150 kilometers), Ganymede is the only moon in the solar system with its own substantial magnetic field. This field is powered by the friction caused by Ganymede's rotation and the gravitational interactions with Jupiter. The moon's surface features extensive ice deposits, including water ice, ammonia ice, and silicate minerals. The surface also hosts several impact craters, indicating a violent history of asteroid and comet impacts. Additionally, Ganymede has its own subsurface ocean, which is believed to be in contact with the moon's mantle. This liquid water could potentially support life, making Ganymede an exciting target for future astrobiology studies.\u001b[33;1m\u001b[1;3mJupiter's largest moon, Ganymede, is the largest moon in the solar system, even larger than the planet itself. With a diameter of approximately 3,200 miles (5,150 kilometers), Ganymede is the only moon in the solar system with its own substantial magnetic field. This field is powered by the friction caused by Ganymede's rotation and the gravitational interactions with Jupiter. The moon's surface features extensive ice deposits, including water ice, ammonia ice, and silicate minerals. The surface also hosts several impact craters, indicating a violent history of asteroid and comet impacts. Additionally, Ganymede has its own subsurface ocean, which is believed to be in contact with the moon's mantle. This liquid water could potentially support life, making Ganymede an exciting target for future astrobiology studies.\u001b[0m\n",
      "\n",
      "\u001b[1m> Finished chain.\u001b[0m\n"
     ]
    },
    {
     "data": {
      "text/plain": [
       "\"Jupiter's largest moon, Ganymede, is the largest moon in the solar system, even larger than the planet itself. With a diameter of approximately 3,200 miles (5,150 kilometers), Ganymede is the only moon in the solar system with its own substantial magnetic field. This field is powered by the friction caused by Ganymede's rotation and the gravitational interactions with Jupiter. The moon's surface features extensive ice deposits, including water ice, ammonia ice, and silicate minerals. The surface also hosts several impact craters, indicating a violent history of asteroid and comet impacts. Additionally, Ganymede has its own subsurface ocean, which is believed to be in contact with the moon's mantle. This liquid water could potentially support life, making Ganymede an exciting target for future astrobiology studies.\""
      ]
     },
     "execution_count": 26,
     "metadata": {},
     "output_type": "execute_result"
    }
   ],
   "source": [
    "\n",
    "#llm = AutoModelForCausalLM.from_pretrained(llama_model_name, model_file=\"llama-2-7b-chat.q4_K_M.gguf\", model_type=\"llama\", gpu_layers=50)\n",
    "# Prompt templates\n",
    "planet_template = '''\n",
    "You are a planetary research scientist. Write a 200 word summary about {planet}.\n",
    "'''\n",
    "planet_prompt = PromptTemplate(input_variables=['planet'], template=planet_template)\n",
    "planet_chain = LLMChain(llm=llama_llm, prompt=planet_prompt)\n",
    "planet_ans2 = planet_chain.run({'planet': 'Mars'})\n",
    "moon_template = '''\n",
    "You are a planetary research scientist. Given a planet {planet}, write a 200 word summary about its largest moon.\n",
    "'''\n",
    "moon_prompt = PromptTemplate(input_variables=['planet'], template=moon_template)\n",
    "moon_chain = LLMChain(llm=llama_llm, prompt=moon_prompt)\n",
    "planetary_system_chain = SimpleSequentialChain(chains=[planet_chain, moon_chain], verbose=True)\n",
    "planetary_system_chain.run('Jupiter')"
   ]
  },
  {
   "cell_type": "markdown",
   "id": "120b8bff-7e5d-40ef-82ee-3abfba9a521b",
   "metadata": {},
   "source": [
    "## Summarize Tokyo Tech Research"
   ]
  },
  {
   "cell_type": "code",
   "execution_count": 4,
   "id": "dc68c6f1-59ef-41ce-9149-e0d3760491fb",
   "metadata": {},
   "outputs": [
    {
     "name": "stdout",
     "output_type": "stream",
     "text": [
      "you have 13 pages in the document\n",
      "you have 3684 characters in this page\n",
      "(Document(page_content='Fourier model reduction. Automatica , 44-1:209–215, 2008.\\n[19]S. Gugercin, A. C. Antoulas, and C. A. Beattie. H2model\\nreduction for large-scale linear dynamical systems. SIAM\\nJournal on Matrix Analysis and Applications , 30-2:609–638,\\n2008.\\n[20]S. Lall, P. Krysl, and J. E. Marsden. Structure-preserving\\nmodel reduction for mechanical systems. Physica D:\\nNonlinear Phenomena , 184-1-4:304–318, 2003.\\n[21]R. C. Li and Z. Bai. Structure-preserving model reduction.', metadata={'source': 'C:/users/vtoci/Documents/Japan/Extra/AutomaticaH2Aggregation4.pdf', 'page': 11, 'text': 'Fourier model reduction. Automatica , 44-1:209–215, 2008.\\n[19]S. Gugercin, A. C. Antoulas, and C. A. Beattie. H2model\\nreduction for large-scale linear dynamical systems. SIAM\\nJournal on Matrix Analysis and Applications , 30-2:609–638,\\n2008.\\n[20]S. Lall, P. Krysl, and J. E. Marsden. Structure-preserving\\nmodel reduction for mechanical systems. Physica D:\\nNonlinear Phenomena , 184-1-4:304–318, 2003.\\n[21]R. C. Li and Z. Bai. Structure-preserving model reduction.'}), 1.2926968)\n"
     ]
    }
   ],
   "source": [
    "file='AutomaticaH2Aggregation4.pdf'\n",
    "hug_embed = HuggingFaceEmbeddings()\n",
    "val_file=val_load_llm_docs(file)\n",
    "val_chunks = llm_chunk_data(val_file, chunk_size=500)\n",
    "planet_vectorstore = llm_embeddings(hug_embed, val_chunks, vector_dim=768)\n",
    "print(f'you have {len(val_file)} pages in the document')\n",
    "print(f'you have {len(val_file[0].page_content)} characters in this page')\n",
    "query=\"What possible applications does the model have\"\n",
    "jp=planet_vectorstore.similarity_search_with_score(query)\n",
    "print(jp[0])"
   ]
  },
  {
   "cell_type": "markdown",
   "id": "fe2da36f-936c-4de0-af34-790038e5bfbd",
   "metadata": {},
   "source": [
    "## Wikipedia Wrapper"
   ]
  },
  {
   "cell_type": "code",
   "execution_count": null,
   "id": "44df8164-2bf8-49a8-8978-2038e128830e",
   "metadata": {},
   "outputs": [],
   "source": [
    "# Function which uses RetrievalQA\n",
    "def val_llm_qa(vectorstore, llm, q, k=3):\n",
    "    retriever = vectorstore.as_retriever(search_type='similarity', search_kwargs={'k', k})\n",
    "    qa = RetrievalQA.from_chain_type(llm=llm, chain_type='map_rank', retriever=retriever)\n",
    "    ans = qa.run(q)\n",
    "    return ans\n",
    "\n",
    "def val_wiki_agents(tools, llm, q):\n",
    "    agent_executor = initialize_agent(tools, llm, agent='zero-shot-react-description', verbose=True)\n",
    "    ans = agent_executor.run(q)\n",
    "    return ans\n",
    "\n",
    "wiki=WikipediaAPIWrapper()\n",
    "planet_tools = [Tool(name='Wikipedia', func=wiki.run, description='Get summary about topic from Wikipedia')]\n",
    "query = 'Please provide a 200 word summary of the rocket Falcon 9'\n",
    "val_wiki_agents(planet_tools, llama_llm, query)"
   ]
  },
  {
   "cell_type": "markdown",
   "id": "03c45a9e-7bcc-48b0-acd4-88ca2954fcdc",
   "metadata": {},
   "source": [
    "## Conversation Chain"
   ]
  },
  {
   "cell_type": "code",
   "execution_count": 6,
   "id": "64af683f-b7f1-4a1e-93f8-fdca17f12791",
   "metadata": {},
   "outputs": [
    {
     "data": {
      "application/vnd.jupyter.widget-view+json": {
       "model_id": "79e111eb06a34de4b1a4713fb61eabe1",
       "version_major": 2,
       "version_minor": 0
      },
      "text/plain": [
       "Fetching 1 files:   0%|          | 0/1 [00:00<?, ?it/s]"
      ]
     },
     "metadata": {},
     "output_type": "display_data"
    },
    {
     "data": {
      "application/vnd.jupyter.widget-view+json": {
       "model_id": "e35207966ee8468fa1d87029a38c7d73",
       "version_major": 2,
       "version_minor": 0
      },
      "text/plain": [
       "Fetching 1 files:   0%|          | 0/1 [00:00<?, ?it/s]"
      ]
     },
     "metadata": {},
     "output_type": "display_data"
    },
    {
     "name": "stderr",
     "output_type": "stream",
     "text": [
      "D:\\projects\\venv\\Lib\\site-packages\\huggingface_hub\\utils\\_deprecation.py:127: FutureWarning: '__init__' (from 'huggingface_hub.inference_api') is deprecated and will be removed from version '1.0'. `InferenceApi` client is deprecated in favor of the more feature-complete `InferenceClient`. Check out this guide to learn how to convert your script to use it: https://huggingface.co/docs/huggingface_hub/guides/inference#legacy-inferenceapi-client.\n",
      "  warnings.warn(warning_message, FutureWarning)\n"
     ]
    },
    {
     "name": "stdout",
     "output_type": "stream",
     "text": [
      "Your prompt:  What's the capital of Romania?\n"
     ]
    },
    {
     "name": "stderr",
     "output_type": "stream",
     "text": [
      "Number of tokens (1348) exceeded maximum context length (512).\n",
      "Number of tokens (1349) exceeded maximum context length (512).\n"
     ]
    },
    {
     "name": "stdout",
     "output_type": "stream",
     "text": [
      "\n"
     ]
    },
    {
     "name": "stderr",
     "output_type": "stream",
     "text": [
      "Number of tokens (1350) exceeded maximum context length (512).\n"
     ]
    },
    {
     "name": "stdout",
     "output_type": "stream",
     "text": [
      "AI"
     ]
    },
    {
     "name": "stderr",
     "output_type": "stream",
     "text": [
      "Number of tokens (1351) exceeded maximum context length (512).\n"
     ]
    },
    {
     "name": "stdout",
     "output_type": "stream",
     "text": [
      ":"
     ]
    },
    {
     "name": "stderr",
     "output_type": "stream",
     "text": [
      "Number of tokens (1352) exceeded maximum context length (512).\n"
     ]
    },
    {
     "name": "stdout",
     "output_type": "stream",
     "text": [
      " "
     ]
    },
    {
     "name": "stderr",
     "output_type": "stream",
     "text": [
      "Number of tokens (1353) exceeded maximum context length (512).\n"
     ]
    },
    {
     "name": "stdout",
     "output_type": "stream",
     "text": [
      " is"
     ]
    },
    {
     "name": "stderr",
     "output_type": "stream",
     "text": [
      "Number of tokens (1354) exceeded maximum context length (512).\n"
     ]
    },
    {
     "name": "stdout",
     "output_type": "stream",
     "text": [
      " in"
     ]
    },
    {
     "name": "stderr",
     "output_type": "stream",
     "text": [
      "Number of tokens (1355) exceeded maximum context length (512).\n"
     ]
    },
    {
     "name": "stdout",
     "output_type": "stream",
     "text": [
      " W"
     ]
    },
    {
     "name": "stderr",
     "output_type": "stream",
     "text": [
      "Number of tokens (1356) exceeded maximum context length (512).\n"
     ]
    },
    {
     "name": "stdout",
     "output_type": "stream",
     "text": [
      "AS"
     ]
    },
    {
     "name": "stderr",
     "output_type": "stream",
     "text": [
      "Number of tokens (1357) exceeded maximum context length (512).\n"
     ]
    },
    {
     "name": "stdout",
     "output_type": "stream",
     "text": [
      "soci"
     ]
    },
    {
     "name": "stderr",
     "output_type": "stream",
     "text": [
      "Number of tokens (1358) exceeded maximum context length (512).\n"
     ]
    },
    {
     "name": "stdout",
     "output_type": "stream",
     "text": [
      "ety"
     ]
    },
    {
     "name": "stderr",
     "output_type": "stream",
     "text": [
      "Number of tokens (1359) exceeded maximum context length (512).\n"
     ]
    },
    {
     "name": "stdout",
     "output_type": "stream",
     "text": [
      ")."
     ]
    },
    {
     "name": "stderr",
     "output_type": "stream",
     "text": [
      "Number of tokens (1360) exceeded maximum context length (512).\n"
     ]
    },
    {
     "name": "stdout",
     "output_type": "stream",
     "text": [
      " *"
     ]
    },
    {
     "name": "stderr",
     "output_type": "stream",
     "text": [
      "Number of tokens (1361) exceeded maximum context length (512).\n"
     ]
    },
    {
     "name": "stdout",
     "output_type": "stream",
     "text": [
      "is"
     ]
    },
    {
     "name": "stderr",
     "output_type": "stream",
     "text": [
      "Number of tokens (1362) exceeded maximum context length (512).\n"
     ]
    },
    {
     "name": "stdout",
     "output_type": "stream",
     "text": [
      " there"
     ]
    },
    {
     "name": "stderr",
     "output_type": "stream",
     "text": [
      "Number of tokens (1363) exceeded maximum context length (512).\n"
     ]
    },
    {
     "name": "stdout",
     "output_type": "stream",
     "text": [
      " is"
     ]
    },
    {
     "name": "stderr",
     "output_type": "stream",
     "text": [
      "Number of tokens (1364) exceeded maximum context length (512).\n"
     ]
    },
    {
     "name": "stdout",
     "output_type": "stream",
     "text": [
      " known"
     ]
    },
    {
     "name": "stderr",
     "output_type": "stream",
     "text": [
      "Number of tokens (1365) exceeded maximum context length (512).\n"
     ]
    },
    {
     "name": "stdout",
     "output_type": "stream",
     "text": [
      " for"
     ]
    },
    {
     "name": "stderr",
     "output_type": "stream",
     "text": [
      "Number of tokens (1366) exceeded maximum context length (512).\n"
     ]
    },
    {
     "name": "stdout",
     "output_type": "stream",
     "text": [
      " me"
     ]
    },
    {
     "name": "stderr",
     "output_type": "stream",
     "text": [
      "Number of tokens (1367) exceeded maximum context length (512).\n"
     ]
    },
    {
     "name": "stdout",
     "output_type": "stream",
     "text": [
      "-"
     ]
    },
    {
     "name": "stderr",
     "output_type": "stream",
     "text": [
      "Number of tokens (1368) exceeded maximum context length (512).\n"
     ]
    },
    {
     "name": "stdout",
     "output_type": "stream",
     "text": [
      "related"
     ]
    },
    {
     "name": "stderr",
     "output_type": "stream",
     "text": [
      "Number of tokens (1369) exceeded maximum context length (512).\n"
     ]
    },
    {
     "name": "stdout",
     "output_type": "stream",
     "text": [
      " to"
     ]
    },
    {
     "name": "stderr",
     "output_type": "stream",
     "text": [
      "Number of tokens (1370) exceeded maximum context length (512).\n"
     ]
    },
    {
     "name": "stdout",
     "output_type": "stream",
     "text": [
      " be"
     ]
    },
    {
     "name": "stderr",
     "output_type": "stream",
     "text": [
      "Number of tokens (1371) exceeded maximum context length (512).\n"
     ]
    },
    {
     "name": "stdout",
     "output_type": "stream",
     "text": [
      "ars"
     ]
    },
    {
     "name": "stderr",
     "output_type": "stream",
     "text": [
      "Number of tokens (1372) exceeded maximum context length (512).\n"
     ]
    },
    {
     "name": "stdout",
     "output_type": "stream",
     "text": [
      ")"
     ]
    },
    {
     "name": "stderr",
     "output_type": "stream",
     "text": [
      "Number of tokens (1373) exceeded maximum context length (512).\n"
     ]
    },
    {
     "name": "stdout",
     "output_type": "stream",
     "text": [
      " is"
     ]
    },
    {
     "name": "stderr",
     "output_type": "stream",
     "text": [
      "Number of tokens (1374) exceeded maximum context length (512).\n"
     ]
    },
    {
     "name": "stdout",
     "output_type": "stream",
     "text": [
      " a"
     ]
    },
    {
     "name": "stderr",
     "output_type": "stream",
     "text": [
      "Number of tokens (1375) exceeded maximum context length (512).\n"
     ]
    },
    {
     "name": "stdout",
     "output_type": "stream",
     "text": [
      "ims"
     ]
    },
    {
     "name": "stderr",
     "output_type": "stream",
     "text": [
      "Number of tokens (1376) exceeded maximum context length (512).\n"
     ]
    },
    {
     "name": "stdout",
     "output_type": "stream",
     "text": [
      " to"
     ]
    },
    {
     "name": "stderr",
     "output_type": "stream",
     "text": [
      "Number of tokens (1377) exceeded maximum context length (512).\n"
     ]
    },
    {
     "name": "stdout",
     "output_type": "stream",
     "text": [
      " the"
     ]
    },
    {
     "name": "stderr",
     "output_type": "stream",
     "text": [
      "Number of tokens (1378) exceeded maximum context length (512).\n"
     ]
    },
    {
     "name": "stdout",
     "output_type": "stream",
     "text": [
      " largest"
     ]
    },
    {
     "name": "stderr",
     "output_type": "stream",
     "text": [
      "Number of tokens (1379) exceeded maximum context length (512).\n"
     ]
    },
    {
     "name": "stdout",
     "output_type": "stream",
     "text": [
      " city"
     ]
    },
    {
     "name": "stderr",
     "output_type": "stream",
     "text": [
      "Number of tokens (1380) exceeded maximum context length (512).\n"
     ]
    },
    {
     "name": "stdout",
     "output_type": "stream",
     "text": [
      " has"
     ]
    },
    {
     "name": "stderr",
     "output_type": "stream",
     "text": [
      "Number of tokens (1381) exceeded maximum context length (512).\n"
     ]
    },
    {
     "name": "stdout",
     "output_type": "stream",
     "text": [
      " been"
     ]
    },
    {
     "name": "stderr",
     "output_type": "stream",
     "text": [
      "Number of tokens (1382) exceeded maximum context length (512).\n"
     ]
    },
    {
     "name": "stdout",
     "output_type": "stream",
     "text": [
      " through"
     ]
    },
    {
     "name": "stderr",
     "output_type": "stream",
     "text": [
      "Number of tokens (1383) exceeded maximum context length (512).\n"
     ]
    },
    {
     "name": "stdout",
     "output_type": "stream",
     "text": [
      " history"
     ]
    },
    {
     "name": "stderr",
     "output_type": "stream",
     "text": [
      "Number of tokens (1384) exceeded maximum context length (512).\n"
     ]
    },
    {
     "name": "stdout",
     "output_type": "stream",
     "text": [
      "?"
     ]
    },
    {
     "name": "stderr",
     "output_type": "stream",
     "text": [
      "Number of tokens (1385) exceeded maximum context length (512).\n"
     ]
    },
    {
     "name": "stdout",
     "output_type": "stream",
     "text": [
      "\n"
     ]
    },
    {
     "name": "stderr",
     "output_type": "stream",
     "text": [
      "Number of tokens (1386) exceeded maximum context length (512).\n"
     ]
    },
    {
     "name": "stdout",
     "output_type": "stream",
     "text": [
      "AI"
     ]
    },
    {
     "name": "stderr",
     "output_type": "stream",
     "text": [
      "Number of tokens (1387) exceeded maximum context length (512).\n"
     ]
    },
    {
     "name": "stdout",
     "output_type": "stream",
     "text": [
      ":"
     ]
    },
    {
     "name": "stderr",
     "output_type": "stream",
     "text": [
      "Number of tokens (1388) exceeded maximum context length (512).\n"
     ]
    },
    {
     "name": "stdout",
     "output_type": "stream",
     "text": [
      " Can"
     ]
    },
    {
     "name": "stderr",
     "output_type": "stream",
     "text": [
      "Number of tokens (1389) exceeded maximum context length (512).\n"
     ]
    },
    {
     "name": "stdout",
     "output_type": "stream",
     "text": [
      " you"
     ]
    },
    {
     "name": "stderr",
     "output_type": "stream",
     "text": [
      "Number of tokens (1390) exceeded maximum context length (512).\n"
     ]
    },
    {
     "name": "stdout",
     "output_type": "stream",
     "text": [
      " would"
     ]
    },
    {
     "name": "stderr",
     "output_type": "stream",
     "text": [
      "Number of tokens (1391) exceeded maximum context length (512).\n"
     ]
    },
    {
     "name": "stdout",
     "output_type": "stream",
     "text": [
      " you"
     ]
    },
    {
     "name": "stderr",
     "output_type": "stream",
     "text": [
      "Number of tokens (1392) exceeded maximum context length (512).\n"
     ]
    },
    {
     "name": "stdout",
     "output_type": "stream",
     "text": [
      " would"
     ]
    },
    {
     "name": "stderr",
     "output_type": "stream",
     "text": [
      "Number of tokens (1393) exceeded maximum context length (512).\n"
     ]
    },
    {
     "name": "stdout",
     "output_type": "stream",
     "text": [
      " you"
     ]
    },
    {
     "name": "stderr",
     "output_type": "stream",
     "text": [
      "Number of tokens (1394) exceeded maximum context length (512).\n"
     ]
    },
    {
     "name": "stdout",
     "output_type": "stream",
     "text": [
      " would"
     ]
    },
    {
     "name": "stderr",
     "output_type": "stream",
     "text": [
      "Number of tokens (1395) exceeded maximum context length (512).\n"
     ]
    },
    {
     "name": "stdout",
     "output_type": "stream",
     "text": [
      " you"
     ]
    },
    {
     "name": "stderr",
     "output_type": "stream",
     "text": [
      "Number of tokens (1396) exceeded maximum context length (512).\n"
     ]
    },
    {
     "name": "stdout",
     "output_type": "stream",
     "text": [
      " would"
     ]
    },
    {
     "name": "stderr",
     "output_type": "stream",
     "text": [
      "Number of tokens (1397) exceeded maximum context length (512).\n"
     ]
    },
    {
     "name": "stdout",
     "output_type": "stream",
     "text": [
      " you"
     ]
    },
    {
     "name": "stderr",
     "output_type": "stream",
     "text": [
      "Number of tokens (1398) exceeded maximum context length (512).\n"
     ]
    },
    {
     "name": "stdout",
     "output_type": "stream",
     "text": [
      " are"
     ]
    },
    {
     "name": "stderr",
     "output_type": "stream",
     "text": [
      "Number of tokens (1399) exceeded maximum context length (512).\n"
     ]
    },
    {
     "name": "stdout",
     "output_type": "stream",
     "text": [
      " we"
     ]
    },
    {
     "name": "stderr",
     "output_type": "stream",
     "text": [
      "Number of tokens (1400) exceeded maximum context length (512).\n"
     ]
    },
    {
     "name": "stdout",
     "output_type": "stream",
     "text": [
      " call"
     ]
    },
    {
     "name": "stderr",
     "output_type": "stream",
     "text": [
      "Number of tokens (1401) exceeded maximum context length (512).\n"
     ]
    },
    {
     "name": "stdout",
     "output_type": "stream",
     "text": [
      " themselves"
     ]
    },
    {
     "name": "stderr",
     "output_type": "stream",
     "text": [
      "Number of tokens (1402) exceeded maximum context length (512).\n"
     ]
    },
    {
     "name": "stdout",
     "output_type": "stream",
     "text": [
      "."
     ]
    },
    {
     "name": "stderr",
     "output_type": "stream",
     "text": [
      "Number of tokens (1403) exceeded maximum context length (512).\n"
     ]
    },
    {
     "name": "stdout",
     "output_type": "stream",
     "text": [
      " The"
     ]
    },
    {
     "name": "stderr",
     "output_type": "stream",
     "text": [
      "Number of tokens (1404) exceeded maximum context length (512).\n"
     ]
    },
    {
     "name": "stdout",
     "output_type": "stream",
     "text": [
      " largest"
     ]
    },
    {
     "name": "stderr",
     "output_type": "stream",
     "text": [
      "Number of tokens (1405) exceeded maximum context length (512).\n"
     ]
    },
    {
     "name": "stdout",
     "output_type": "stream",
     "text": [
      " cities"
     ]
    },
    {
     "name": "stderr",
     "output_type": "stream",
     "text": [
      "Number of tokens (1406) exceeded maximum context length (512).\n"
     ]
    },
    {
     "name": "stdout",
     "output_type": "stream",
     "text": [
      " have"
     ]
    },
    {
     "name": "stderr",
     "output_type": "stream",
     "text": [
      "Number of tokens (1407) exceeded maximum context length (512).\n"
     ]
    },
    {
     "name": "stdout",
     "output_type": "stream",
     "text": [
      " you"
     ]
    },
    {
     "name": "stderr",
     "output_type": "stream",
     "text": [
      "Number of tokens (1408) exceeded maximum context length (512).\n"
     ]
    },
    {
     "name": "stdout",
     "output_type": "stream",
     "text": [
      " like"
     ]
    },
    {
     "name": "stderr",
     "output_type": "stream",
     "text": [
      "Number of tokens (1409) exceeded maximum context length (512).\n"
     ]
    },
    {
     "name": "stdout",
     "output_type": "stream",
     "text": [
      " to"
     ]
    },
    {
     "name": "stderr",
     "output_type": "stream",
     "text": [
      "Number of tokens (1410) exceeded maximum context length (512).\n"
     ]
    },
    {
     "name": "stdout",
     "output_type": "stream",
     "text": [
      " the"
     ]
    },
    {
     "name": "stderr",
     "output_type": "stream",
     "text": [
      "Number of tokens (1411) exceeded maximum context length (512).\n"
     ]
    },
    {
     "name": "stdout",
     "output_type": "stream",
     "text": [
      " second"
     ]
    },
    {
     "name": "stderr",
     "output_type": "stream",
     "text": [
      "Number of tokens (1412) exceeded maximum context length (512).\n"
     ]
    },
    {
     "name": "stdout",
     "output_type": "stream",
     "text": [
      " largest"
     ]
    },
    {
     "name": "stderr",
     "output_type": "stream",
     "text": [
      "Number of tokens (1413) exceeded maximum context length (512).\n"
     ]
    },
    {
     "name": "stdout",
     "output_type": "stream",
     "text": [
      " cities"
     ]
    },
    {
     "name": "stderr",
     "output_type": "stream",
     "text": [
      "Number of tokens (1414) exceeded maximum context length (512).\n"
     ]
    },
    {
     "name": "stdout",
     "output_type": "stream",
     "text": [
      " has"
     ]
    },
    {
     "name": "stderr",
     "output_type": "stream",
     "text": [
      "Number of tokens (1415) exceeded maximum context length (512).\n"
     ]
    },
    {
     "name": "stdout",
     "output_type": "stream",
     "text": [
      " UN"
     ]
    },
    {
     "name": "stderr",
     "output_type": "stream",
     "text": [
      "Number of tokens (1416) exceeded maximum context length (512).\n"
     ]
    },
    {
     "name": "stdout",
     "output_type": "stream",
     "text": [
      "ES"
     ]
    },
    {
     "name": "stderr",
     "output_type": "stream",
     "text": [
      "Number of tokens (1417) exceeded maximum context length (512).\n"
     ]
    },
    {
     "name": "stdout",
     "output_type": "stream",
     "text": [
      "o"
     ]
    },
    {
     "name": "stderr",
     "output_type": "stream",
     "text": [
      "Number of tokens (1418) exceeded maximum context length (512).\n"
     ]
    },
    {
     "name": "stdout",
     "output_type": "stream",
     "text": [
      "ara"
     ]
    },
    {
     "name": "stderr",
     "output_type": "stream",
     "text": [
      "Number of tokens (1419) exceeded maximum context length (512).\n"
     ]
    },
    {
     "name": "stdout",
     "output_type": "stream",
     "text": [
      ")."
     ]
    },
    {
     "name": "stderr",
     "output_type": "stream",
     "text": [
      "Number of tokens (1420) exceeded maximum context length (512).\n"
     ]
    },
    {
     "name": "stdout",
     "output_type": "stream",
     "text": [
      " It"
     ]
    },
    {
     "name": "stderr",
     "output_type": "stream",
     "text": [
      "Number of tokens (1421) exceeded maximum context length (512).\n"
     ]
    },
    {
     "name": "stdout",
     "output_type": "stream",
     "text": [
      "'"
     ]
    },
    {
     "name": "stderr",
     "output_type": "stream",
     "text": [
      "Number of tokens (1422) exceeded maximum context length (512).\n"
     ]
    },
    {
     "name": "stdout",
     "output_type": "stream",
     "text": [
      "s"
     ]
    },
    {
     "name": "stderr",
     "output_type": "stream",
     "text": [
      "Number of tokens (1423) exceeded maximum context length (512).\n"
     ]
    },
    {
     "name": "stdout",
     "output_type": "stream",
     "text": [
      " third"
     ]
    },
    {
     "name": "stderr",
     "output_type": "stream",
     "text": [
      "Number of tokens (1424) exceeded maximum context length (512).\n"
     ]
    },
    {
     "name": "stdout",
     "output_type": "stream",
     "text": [
      " largest"
     ]
    },
    {
     "name": "stderr",
     "output_type": "stream",
     "text": [
      "Number of tokens (1425) exceeded maximum context length (512).\n"
     ]
    },
    {
     "name": "stdout",
     "output_type": "stream",
     "text": [
      " city"
     ]
    },
    {
     "name": "stderr",
     "output_type": "stream",
     "text": [
      "Number of tokens (1426) exceeded maximum context length (512).\n"
     ]
    },
    {
     "name": "stdout",
     "output_type": "stream",
     "text": [
      " has"
     ]
    },
    {
     "name": "stderr",
     "output_type": "stream",
     "text": [
      "Number of tokens (1427) exceeded maximum context length (512).\n"
     ]
    },
    {
     "name": "stdout",
     "output_type": "stream",
     "text": [
      " a"
     ]
    },
    {
     "name": "stderr",
     "output_type": "stream",
     "text": [
      "Number of tokens (1428) exceeded maximum context length (512).\n"
     ]
    },
    {
     "name": "stdout",
     "output_type": "stream",
     "text": [
      " year"
     ]
    },
    {
     "name": "stderr",
     "output_type": "stream",
     "text": [
      "Number of tokens (1429) exceeded maximum context length (512).\n"
     ]
    },
    {
     "name": "stdout",
     "output_type": "stream",
     "text": [
      " was"
     ]
    },
    {
     "name": "stderr",
     "output_type": "stream",
     "text": [
      "Number of tokens (1430) exceeded maximum context length (512).\n"
     ]
    },
    {
     "name": "stdout",
     "output_type": "stream",
     "text": [
      " part"
     ]
    },
    {
     "name": "stderr",
     "output_type": "stream",
     "text": [
      "Number of tokens (1431) exceeded maximum context length (512).\n"
     ]
    },
    {
     "name": "stdout",
     "output_type": "stream",
     "text": [
      " of"
     ]
    },
    {
     "name": "stderr",
     "output_type": "stream",
     "text": [
      "Number of tokens (1432) exceeded maximum context length (512).\n"
     ]
    },
    {
     "name": "stdout",
     "output_type": "stream",
     "text": [
      " Roman"
     ]
    },
    {
     "name": "stderr",
     "output_type": "stream",
     "text": [
      "Number of tokens (1433) exceeded maximum context length (512).\n"
     ]
    },
    {
     "name": "stdout",
     "output_type": "stream",
     "text": [
      "ia"
     ]
    },
    {
     "name": "stderr",
     "output_type": "stream",
     "text": [
      "Number of tokens (1434) exceeded maximum context length (512).\n"
     ]
    },
    {
     "name": "stdout",
     "output_type": "stream",
     "text": [
      "'"
     ]
    },
    {
     "name": "stderr",
     "output_type": "stream",
     "text": [
      "Number of tokens (1435) exceeded maximum context length (512).\n"
     ]
    },
    {
     "name": "stdout",
     "output_type": "stream",
     "text": [
      "s"
     ]
    },
    {
     "name": "stderr",
     "output_type": "stream",
     "text": [
      "Number of tokens (1436) exceeded maximum context length (512).\n"
     ]
    },
    {
     "name": "stdout",
     "output_type": "stream",
     "text": [
      " economy"
     ]
    },
    {
     "name": "stderr",
     "output_type": "stream",
     "text": [
      "Number of tokens (1437) exceeded maximum context length (512).\n"
     ]
    },
    {
     "name": "stdout",
     "output_type": "stream",
     "text": [
      "?"
     ]
    },
    {
     "name": "stderr",
     "output_type": "stream",
     "text": [
      "Number of tokens (1438) exceeded maximum context length (512).\n"
     ]
    },
    {
     "name": "stdout",
     "output_type": "stream",
     "text": [
      "\n"
     ]
    },
    {
     "name": "stderr",
     "output_type": "stream",
     "text": [
      "Number of tokens (1439) exceeded maximum context length (512).\n"
     ]
    },
    {
     "name": "stdout",
     "output_type": "stream",
     "text": [
      "AI"
     ]
    },
    {
     "name": "stderr",
     "output_type": "stream",
     "text": [
      "Number of tokens (1440) exceeded maximum context length (512).\n"
     ]
    },
    {
     "name": "stdout",
     "output_type": "stream",
     "text": [
      ":"
     ]
    },
    {
     "name": "stderr",
     "output_type": "stream",
     "text": [
      "Number of tokens (1441) exceeded maximum context length (512).\n"
     ]
    },
    {
     "name": "stdout",
     "output_type": "stream",
     "text": [
      "\n"
     ]
    },
    {
     "name": "stderr",
     "output_type": "stream",
     "text": [
      "Number of tokens (1442) exceeded maximum context length (512).\n"
     ]
    },
    {
     "name": "stdout",
     "output_type": "stream",
     "text": [
      "AI"
     ]
    },
    {
     "name": "stderr",
     "output_type": "stream",
     "text": [
      "Number of tokens (1443) exceeded maximum context length (512).\n"
     ]
    },
    {
     "name": "stdout",
     "output_type": "stream",
     "text": [
      ":"
     ]
    },
    {
     "name": "stderr",
     "output_type": "stream",
     "text": [
      "Number of tokens (1444) exceeded maximum context length (512).\n"
     ]
    },
    {
     "name": "stdout",
     "output_type": "stream",
     "text": [
      "\n"
     ]
    },
    {
     "name": "stderr",
     "output_type": "stream",
     "text": [
      "Number of tokens (1445) exceeded maximum context length (512).\n"
     ]
    },
    {
     "name": "stdout",
     "output_type": "stream",
     "text": [
      "AI"
     ]
    },
    {
     "name": "stderr",
     "output_type": "stream",
     "text": [
      "Number of tokens (1446) exceeded maximum context length (512).\n"
     ]
    },
    {
     "name": "stdout",
     "output_type": "stream",
     "text": [
      ":"
     ]
    },
    {
     "name": "stderr",
     "output_type": "stream",
     "text": [
      "Number of tokens (1447) exceeded maximum context length (512).\n"
     ]
    },
    {
     "name": "stdout",
     "output_type": "stream",
     "text": [
      "\n"
     ]
    },
    {
     "name": "stderr",
     "output_type": "stream",
     "text": [
      "Number of tokens (1448) exceeded maximum context length (512).\n"
     ]
    },
    {
     "name": "stdout",
     "output_type": "stream",
     "text": [
      "AI"
     ]
    },
    {
     "name": "stderr",
     "output_type": "stream",
     "text": [
      "Number of tokens (1449) exceeded maximum context length (512).\n"
     ]
    },
    {
     "name": "stdout",
     "output_type": "stream",
     "text": [
      ":"
     ]
    },
    {
     "name": "stderr",
     "output_type": "stream",
     "text": [
      "Number of tokens (1450) exceeded maximum context length (512).\n"
     ]
    },
    {
     "name": "stdout",
     "output_type": "stream",
     "text": [
      " What"
     ]
    },
    {
     "name": "stderr",
     "output_type": "stream",
     "text": [
      "Number of tokens (1451) exceeded maximum context length (512).\n"
     ]
    },
    {
     "name": "stdout",
     "output_type": "stream",
     "text": [
      " of"
     ]
    },
    {
     "name": "stderr",
     "output_type": "stream",
     "text": [
      "Number of tokens (1452) exceeded maximum context length (512).\n"
     ]
    },
    {
     "name": "stdout",
     "output_type": "stream",
     "text": [
      " all"
     ]
    },
    {
     "name": "stderr",
     "output_type": "stream",
     "text": [
      "Number of tokens (1453) exceeded maximum context length (512).\n"
     ]
    },
    {
     "name": "stdout",
     "output_type": "stream",
     "text": [
      "-"
     ]
    },
    {
     "name": "stderr",
     "output_type": "stream",
     "text": [
      "Number of tokens (1454) exceeded maximum context length (512).\n"
     ]
    },
    {
     "name": "stdout",
     "output_type": "stream",
     "text": [
      "related"
     ]
    },
    {
     "name": "stderr",
     "output_type": "stream",
     "text": [
      "Number of tokens (1455) exceeded maximum context length (512).\n"
     ]
    },
    {
     "name": "stdout",
     "output_type": "stream",
     "text": [
      " to"
     ]
    },
    {
     "name": "stderr",
     "output_type": "stream",
     "text": [
      "Number of tokens (1456) exceeded maximum context length (512).\n"
     ]
    },
    {
     "name": "stdout",
     "output_type": "stream",
     "text": [
      " the"
     ]
    },
    {
     "name": "stderr",
     "output_type": "stream",
     "text": [
      "Number of tokens (1457) exceeded maximum context length (512).\n"
     ]
    },
    {
     "name": "stdout",
     "output_type": "stream",
     "text": [
      " most"
     ]
    },
    {
     "name": "stderr",
     "output_type": "stream",
     "text": [
      "Number of tokens (1458) exceeded maximum context length (512).\n"
     ]
    },
    {
     "name": "stdout",
     "output_type": "stream",
     "text": [
      " famous"
     ]
    },
    {
     "name": "stderr",
     "output_type": "stream",
     "text": [
      "Number of tokens (1459) exceeded maximum context length (512).\n"
     ]
    },
    {
     "name": "stdout",
     "output_type": "stream",
     "text": [
      " for"
     ]
    },
    {
     "name": "stderr",
     "output_type": "stream",
     "text": [
      "Number of tokens (1460) exceeded maximum context length (512).\n"
     ]
    },
    {
     "name": "stdout",
     "output_type": "stream",
     "text": [
      " a"
     ]
    },
    {
     "name": "stderr",
     "output_type": "stream",
     "text": [
      "Number of tokens (1461) exceeded maximum context length (512).\n"
     ]
    },
    {
     "name": "stdout",
     "output_type": "stream",
     "text": [
      " more"
     ]
    },
    {
     "name": "stderr",
     "output_type": "stream",
     "text": [
      "Number of tokens (1462) exceeded maximum context length (512).\n"
     ]
    },
    {
     "name": "stdout",
     "output_type": "stream",
     "text": [
      " than"
     ]
    },
    {
     "name": "stderr",
     "output_type": "stream",
     "text": [
      "Number of tokens (1463) exceeded maximum context length (512).\n"
     ]
    },
    {
     "name": "stdout",
     "output_type": "stream",
     "text": [
      " Buch"
     ]
    },
    {
     "name": "stderr",
     "output_type": "stream",
     "text": [
      "Number of tokens (1464) exceeded maximum context length (512).\n"
     ]
    },
    {
     "name": "stdout",
     "output_type": "stream",
     "text": [
      "ar"
     ]
    },
    {
     "name": "stderr",
     "output_type": "stream",
     "text": [
      "Number of tokens (1465) exceeded maximum context length (512).\n"
     ]
    },
    {
     "name": "stdout",
     "output_type": "stream",
     "text": [
      ")."
     ]
    },
    {
     "name": "stderr",
     "output_type": "stream",
     "text": [
      "Number of tokens (1466) exceeded maximum context length (512).\n"
     ]
    },
    {
     "name": "stdout",
     "output_type": "stream",
     "text": [
      " *"
     ]
    },
    {
     "name": "stderr",
     "output_type": "stream",
     "text": [
      "Number of tokens (1467) exceeded maximum context length (512).\n"
     ]
    },
    {
     "name": "stdout",
     "output_type": "stream",
     "text": [
      "w"
     ]
    },
    {
     "name": "stderr",
     "output_type": "stream",
     "text": [
      "Number of tokens (1468) exceeded maximum context length (512).\n"
     ]
    },
    {
     "name": "stdout",
     "output_type": "stream",
     "text": [
      ")."
     ]
    },
    {
     "name": "stderr",
     "output_type": "stream",
     "text": [
      "Number of tokens (1469) exceeded maximum context length (512).\n"
     ]
    },
    {
     "name": "stdout",
     "output_type": "stream",
     "text": [
      " It"
     ]
    },
    {
     "name": "stderr",
     "output_type": "stream",
     "text": [
      "Number of tokens (1470) exceeded maximum context length (512).\n"
     ]
    },
    {
     "name": "stdout",
     "output_type": "stream",
     "text": [
      " is"
     ]
    },
    {
     "name": "stderr",
     "output_type": "stream",
     "text": [
      "Number of tokens (1471) exceeded maximum context length (512).\n"
     ]
    },
    {
     "name": "stdout",
     "output_type": "stream",
     "text": [
      " located"
     ]
    },
    {
     "name": "stderr",
     "output_type": "stream",
     "text": [
      "Number of tokens (1472) exceeded maximum context length (512).\n"
     ]
    },
    {
     "name": "stdout",
     "output_type": "stream",
     "text": [
      " on"
     ]
    },
    {
     "name": "stderr",
     "output_type": "stream",
     "text": [
      "Number of tokens (1473) exceeded maximum context length (512).\n"
     ]
    },
    {
     "name": "stdout",
     "output_type": "stream",
     "text": [
      " this"
     ]
    },
    {
     "name": "stderr",
     "output_type": "stream",
     "text": [
      "Number of tokens (1474) exceeded maximum context length (512).\n"
     ]
    },
    {
     "name": "stdout",
     "output_type": "stream",
     "text": [
      " year"
     ]
    },
    {
     "name": "stderr",
     "output_type": "stream",
     "text": [
      "Number of tokens (1475) exceeded maximum context length (512).\n"
     ]
    },
    {
     "name": "stdout",
     "output_type": "stream",
     "text": [
      " did"
     ]
    },
    {
     "name": "stderr",
     "output_type": "stream",
     "text": [
      "Number of tokens (1476) exceeded maximum context length (512).\n"
     ]
    },
    {
     "name": "stdout",
     "output_type": "stream",
     "text": [
      " the"
     ]
    },
    {
     "name": "stderr",
     "output_type": "stream",
     "text": [
      "Number of tokens (1477) exceeded maximum context length (512).\n"
     ]
    },
    {
     "name": "stdout",
     "output_type": "stream",
     "text": [
      " language"
     ]
    },
    {
     "name": "stderr",
     "output_type": "stream",
     "text": [
      "Number of tokens (1478) exceeded maximum context length (512).\n"
     ]
    },
    {
     "name": "stdout",
     "output_type": "stream",
     "text": [
      " do"
     ]
    },
    {
     "name": "stderr",
     "output_type": "stream",
     "text": [
      "Number of tokens (1479) exceeded maximum context length (512).\n"
     ]
    },
    {
     "name": "stdout",
     "output_type": "stream",
     "text": [
      " you"
     ]
    },
    {
     "name": "stderr",
     "output_type": "stream",
     "text": [
      "Number of tokens (1480) exceeded maximum context length (512).\n"
     ]
    },
    {
     "name": "stdout",
     "output_type": "stream",
     "text": [
      " can"
     ]
    },
    {
     "name": "stderr",
     "output_type": "stream",
     "text": [
      "Number of tokens (1481) exceeded maximum context length (512).\n"
     ]
    },
    {
     "name": "stdout",
     "output_type": "stream",
     "text": [
      " you"
     ]
    },
    {
     "name": "stderr",
     "output_type": "stream",
     "text": [
      "Number of tokens (1482) exceeded maximum context length (512).\n"
     ]
    },
    {
     "name": "stdout",
     "output_type": "stream",
     "text": [
      " like"
     ]
    },
    {
     "name": "stderr",
     "output_type": "stream",
     "text": [
      "Number of tokens (1483) exceeded maximum context length (512).\n"
     ]
    },
    {
     "name": "stdout",
     "output_type": "stream",
     "text": [
      " in"
     ]
    },
    {
     "name": "stderr",
     "output_type": "stream",
     "text": [
      "Number of tokens (1484) exceeded maximum context length (512).\n"
     ]
    },
    {
     "name": "stdout",
     "output_type": "stream",
     "text": [
      " general"
     ]
    },
    {
     "name": "stderr",
     "output_type": "stream",
     "text": [
      "Number of tokens (1485) exceeded maximum context length (512).\n"
     ]
    },
    {
     "name": "stdout",
     "output_type": "stream",
     "text": [
      " facts"
     ]
    },
    {
     "name": "stderr",
     "output_type": "stream",
     "text": [
      "Number of tokens (1486) exceeded maximum context length (512).\n"
     ]
    },
    {
     "name": "stdout",
     "output_type": "stream",
     "text": [
      " should"
     ]
    },
    {
     "name": "stderr",
     "output_type": "stream",
     "text": [
      "Number of tokens (1487) exceeded maximum context length (512).\n"
     ]
    },
    {
     "name": "stdout",
     "output_type": "stream",
     "text": [
      " I"
     ]
    },
    {
     "name": "stderr",
     "output_type": "stream",
     "text": [
      "Number of tokens (1488) exceeded maximum context length (512).\n"
     ]
    },
    {
     "name": "stdout",
     "output_type": "stream",
     "text": [
      " don"
     ]
    },
    {
     "name": "stderr",
     "output_type": "stream",
     "text": [
      "Number of tokens (1489) exceeded maximum context length (512).\n"
     ]
    },
    {
     "name": "stdout",
     "output_type": "stream",
     "text": [
      "'"
     ]
    },
    {
     "name": "stderr",
     "output_type": "stream",
     "text": [
      "Number of tokens (1490) exceeded maximum context length (512).\n"
     ]
    },
    {
     "name": "stdout",
     "output_type": "stream",
     "text": [
      "s"
     ]
    },
    {
     "name": "stderr",
     "output_type": "stream",
     "text": [
      "Number of tokens (1491) exceeded maximum context length (512).\n"
     ]
    },
    {
     "name": "stdout",
     "output_type": "stream",
     "text": [
      " third"
     ]
    },
    {
     "name": "stderr",
     "output_type": "stream",
     "text": [
      "Number of tokens (1492) exceeded maximum context length (512).\n"
     ]
    },
    {
     "name": "stdout",
     "output_type": "stream",
     "text": [
      " largest"
     ]
    },
    {
     "name": "stderr",
     "output_type": "stream",
     "text": [
      "Number of tokens (1493) exceeded maximum context length (512).\n"
     ]
    },
    {
     "name": "stdout",
     "output_type": "stream",
     "text": [
      " city"
     ]
    },
    {
     "name": "stderr",
     "output_type": "stream",
     "text": [
      "Number of tokens (1494) exceeded maximum context length (512).\n"
     ]
    },
    {
     "name": "stdout",
     "output_type": "stream",
     "text": [
      " has"
     ]
    },
    {
     "name": "stderr",
     "output_type": "stream",
     "text": [
      "Number of tokens (1495) exceeded maximum context length (512).\n"
     ]
    },
    {
     "name": "stdout",
     "output_type": "stream",
     "text": [
      " UN"
     ]
    },
    {
     "name": "stderr",
     "output_type": "stream",
     "text": [
      "Number of tokens (1496) exceeded maximum context length (512).\n"
     ]
    },
    {
     "name": "stdout",
     "output_type": "stream",
     "text": [
      "ES"
     ]
    },
    {
     "name": "stderr",
     "output_type": "stream",
     "text": [
      "Number of tokens (1497) exceeded maximum context length (512).\n"
     ]
    },
    {
     "name": "stdout",
     "output_type": "stream",
     "text": [
      ":"
     ]
    },
    {
     "name": "stderr",
     "output_type": "stream",
     "text": [
      "Number of tokens (1498) exceeded maximum context length (512).\n"
     ]
    },
    {
     "name": "stdout",
     "output_type": "stream",
     "text": [
      " What"
     ]
    },
    {
     "name": "stderr",
     "output_type": "stream",
     "text": [
      "Number of tokens (1499) exceeded maximum context length (512).\n"
     ]
    },
    {
     "name": "stdout",
     "output_type": "stream",
     "text": [
      "'"
     ]
    },
    {
     "name": "stderr",
     "output_type": "stream",
     "text": [
      "Number of tokens (1500) exceeded maximum context length (512).\n"
     ]
    },
    {
     "name": "stdout",
     "output_type": "stream",
     "text": [
      "s"
     ]
    },
    {
     "name": "stderr",
     "output_type": "stream",
     "text": [
      "Number of tokens (1501) exceeded maximum context length (512).\n"
     ]
    },
    {
     "name": "stdout",
     "output_type": "stream",
     "text": [
      " cities"
     ]
    },
    {
     "name": "stderr",
     "output_type": "stream",
     "text": [
      "Number of tokens (1502) exceeded maximum context length (512).\n"
     ]
    },
    {
     "name": "stdout",
     "output_type": "stream",
     "text": [
      " are"
     ]
    },
    {
     "name": "stderr",
     "output_type": "stream",
     "text": [
      "Number of tokens (1503) exceeded maximum context length (512).\n"
     ]
    },
    {
     "name": "stdout",
     "output_type": "stream",
     "text": [
      " the"
     ]
    },
    {
     "name": "stderr",
     "output_type": "stream",
     "text": [
      "Number of tokens (1504) exceeded maximum context length (512).\n"
     ]
    },
    {
     "name": "stdout",
     "output_type": "stream",
     "text": [
      " second"
     ]
    },
    {
     "name": "stderr",
     "output_type": "stream",
     "text": [
      "Number of tokens (1505) exceeded maximum context length (512).\n"
     ]
    },
    {
     "name": "stdout",
     "output_type": "stream",
     "text": [
      "-"
     ]
    },
    {
     "name": "stderr",
     "output_type": "stream",
     "text": [
      "Number of tokens (1506) exceeded maximum context length (512).\n"
     ]
    },
    {
     "name": "stdout",
     "output_type": "stream",
     "text": [
      "related"
     ]
    },
    {
     "name": "stderr",
     "output_type": "stream",
     "text": [
      "Number of tokens (1507) exceeded maximum context length (512).\n"
     ]
    },
    {
     "name": "stdout",
     "output_type": "stream",
     "text": [
      " to"
     ]
    },
    {
     "name": "stderr",
     "output_type": "stream",
     "text": [
      "Number of tokens (1508) exceeded maximum context length (512).\n"
     ]
    },
    {
     "name": "stdout",
     "output_type": "stream",
     "text": [
      " the"
     ]
    },
    {
     "name": "stderr",
     "output_type": "stream",
     "text": [
      "Number of tokens (1509) exceeded maximum context length (512).\n"
     ]
    },
    {
     "name": "stdout",
     "output_type": "stream",
     "text": [
      " largest"
     ]
    },
    {
     "name": "stderr",
     "output_type": "stream",
     "text": [
      "Number of tokens (1510) exceeded maximum context length (512).\n"
     ]
    },
    {
     "name": "stdout",
     "output_type": "stream",
     "text": [
      " city"
     ]
    },
    {
     "name": "stderr",
     "output_type": "stream",
     "text": [
      "Number of tokens (1511) exceeded maximum context length (512).\n"
     ]
    },
    {
     "name": "stdout",
     "output_type": "stream",
     "text": [
      " is"
     ]
    },
    {
     "name": "stderr",
     "output_type": "stream",
     "text": [
      "Number of tokens (1512) exceeded maximum context length (512).\n"
     ]
    },
    {
     "name": "stdout",
     "output_type": "stream",
     "text": [
      " not"
     ]
    },
    {
     "name": "stderr",
     "output_type": "stream",
     "text": [
      "Number of tokens (1513) exceeded maximum context length (512).\n"
     ]
    },
    {
     "name": "stdout",
     "output_type": "stream",
     "text": [
      " so"
     ]
    },
    {
     "name": "stderr",
     "output_type": "stream",
     "text": [
      "Number of tokens (1514) exceeded maximum context length (512).\n"
     ]
    },
    {
     "name": "stdout",
     "output_type": "stream",
     "text": [
      " much"
     ]
    },
    {
     "name": "stderr",
     "output_type": "stream",
     "text": [
      "Number of tokens (1515) exceeded maximum context length (512).\n"
     ]
    },
    {
     "name": "stdout",
     "output_type": "stream",
     "text": [
      " history"
     ]
    },
    {
     "name": "stderr",
     "output_type": "stream",
     "text": [
      "Number of tokens (1516) exceeded maximum context length (512).\n"
     ]
    },
    {
     "name": "stdout",
     "output_type": "stream",
     "text": [
      "."
     ]
    },
    {
     "name": "stderr",
     "output_type": "stream",
     "text": [
      "Number of tokens (1517) exceeded maximum context length (512).\n"
     ]
    },
    {
     "name": "stdout",
     "output_type": "stream",
     "text": [
      " Is"
     ]
    },
    {
     "name": "stderr",
     "output_type": "stream",
     "text": [
      "Number of tokens (1518) exceeded maximum context length (512).\n"
     ]
    },
    {
     "name": "stdout",
     "output_type": "stream",
     "text": [
      "?"
     ]
    },
    {
     "name": "stderr",
     "output_type": "stream",
     "text": [
      "Number of tokens (1519) exceeded maximum context length (512).\n"
     ]
    },
    {
     "name": "stdout",
     "output_type": "stream",
     "text": [
      "\n"
     ]
    },
    {
     "name": "stderr",
     "output_type": "stream",
     "text": [
      "Number of tokens (1520) exceeded maximum context length (512).\n"
     ]
    },
    {
     "name": "stdout",
     "output_type": "stream",
     "text": [
      "AI"
     ]
    },
    {
     "name": "stderr",
     "output_type": "stream",
     "text": [
      "Number of tokens (1521) exceeded maximum context length (512).\n"
     ]
    },
    {
     "name": "stdout",
     "output_type": "stream",
     "text": [
      ":"
     ]
    },
    {
     "name": "stderr",
     "output_type": "stream",
     "text": [
      "Number of tokens (1522) exceeded maximum context length (512).\n"
     ]
    },
    {
     "name": "stdout",
     "output_type": "stream",
     "text": [
      " What"
     ]
    },
    {
     "name": "stderr",
     "output_type": "stream",
     "text": [
      "Number of tokens (1523) exceeded maximum context length (512).\n"
     ]
    },
    {
     "name": "stdout",
     "output_type": "stream",
     "text": [
      "'"
     ]
    },
    {
     "name": "stderr",
     "output_type": "stream",
     "text": [
      "Number of tokens (1524) exceeded maximum context length (512).\n"
     ]
    },
    {
     "name": "stdout",
     "output_type": "stream",
     "text": [
      "s"
     ]
    },
    {
     "name": "stderr",
     "output_type": "stream",
     "text": [
      "Number of tokens (1525) exceeded maximum context length (512).\n"
     ]
    },
    {
     "name": "stdout",
     "output_type": "stream",
     "text": [
      " economy"
     ]
    },
    {
     "name": "stderr",
     "output_type": "stream",
     "text": [
      "Number of tokens (1526) exceeded maximum context length (512).\n"
     ]
    },
    {
     "name": "stdout",
     "output_type": "stream",
     "text": [
      "?"
     ]
    },
    {
     "name": "stderr",
     "output_type": "stream",
     "text": [
      "Number of tokens (1527) exceeded maximum context length (512).\n"
     ]
    },
    {
     "name": "stdout",
     "output_type": "stream",
     "text": [
      "\n"
     ]
    },
    {
     "name": "stderr",
     "output_type": "stream",
     "text": [
      "Number of tokens (1528) exceeded maximum context length (512).\n"
     ]
    },
    {
     "name": "stdout",
     "output_type": "stream",
     "text": [
      "AI"
     ]
    },
    {
     "name": "stderr",
     "output_type": "stream",
     "text": [
      "Number of tokens (1529) exceeded maximum context length (512).\n"
     ]
    },
    {
     "name": "stdout",
     "output_type": "stream",
     "text": [
      ":"
     ]
    },
    {
     "name": "stderr",
     "output_type": "stream",
     "text": [
      "Number of tokens (1530) exceeded maximum context length (512).\n"
     ]
    },
    {
     "name": "stdout",
     "output_type": "stream",
     "text": [
      "\n"
     ]
    },
    {
     "name": "stderr",
     "output_type": "stream",
     "text": [
      "Number of tokens (1531) exceeded maximum context length (512).\n"
     ]
    },
    {
     "name": "stdout",
     "output_type": "stream",
     "text": [
      "AI"
     ]
    },
    {
     "name": "stderr",
     "output_type": "stream",
     "text": [
      "Number of tokens (1532) exceeded maximum context length (512).\n"
     ]
    },
    {
     "name": "stdout",
     "output_type": "stream",
     "text": [
      ":"
     ]
    },
    {
     "name": "stderr",
     "output_type": "stream",
     "text": [
      "Number of tokens (1533) exceeded maximum context length (512).\n"
     ]
    },
    {
     "name": "stdout",
     "output_type": "stream",
     "text": [
      "\n"
     ]
    },
    {
     "name": "stderr",
     "output_type": "stream",
     "text": [
      "Number of tokens (1534) exceeded maximum context length (512).\n"
     ]
    },
    {
     "name": "stdout",
     "output_type": "stream",
     "text": [
      "AI"
     ]
    },
    {
     "name": "stderr",
     "output_type": "stream",
     "text": [
      "Number of tokens (1535) exceeded maximum context length (512).\n"
     ]
    },
    {
     "name": "stdout",
     "output_type": "stream",
     "text": [
      ":"
     ]
    },
    {
     "name": "stderr",
     "output_type": "stream",
     "text": [
      "Number of tokens (1536) exceeded maximum context length (512).\n"
     ]
    },
    {
     "name": "stdout",
     "output_type": "stream",
     "text": [
      " "
     ]
    },
    {
     "name": "stderr",
     "output_type": "stream",
     "text": [
      "Number of tokens (1537) exceeded maximum context length (512).\n"
     ]
    },
    {
     "name": "stdout",
     "output_type": "stream",
     "text": [
      "\n",
      "AI:  is in WASsociety). *is there is known for me-related to bears) is aims to the largest city has been through history?\n",
      "AI: Can you would you would you would you would you are we call themselves. The largest cities have you like to the second largest cities has UNESoara). It's third largest city has a year was part of Romania's economy?\n",
      "AI:\n",
      "AI:\n",
      "AI:\n",
      "AI: What of all-related to the most famous for a more than Buchar). *w). It is located on this year did the language do you can you like in general facts should I don's third largest city has UNES: What's cities are the second-related to the largest city is not so much history. Is?\n",
      "AI: What's economy?\n",
      "AI:\n",
      "AI:\n",
      "AI: \n",
      "--------------------\n"
     ]
    },
    {
     "name": "stdout",
     "output_type": "stream",
     "text": [
      "Your prompt:  exit\n"
     ]
    },
    {
     "name": "stdout",
     "output_type": "stream",
     "text": [
      "Goodbye\n"
     ]
    }
   ],
   "source": [
    "template = \"\"\"\n",
    "\n",
    "The following is a friendly conversation between a human and an AI. \n",
    "The AI is talkative and provides lots of specific details from its context. \n",
    "If the AI does not know the answer to a question, it truthfully says it does\n",
    "not know.\n",
    "\n",
    "Current conversation:\n",
    "Human: {input}\n",
    "AI Assistant:\"\"\"\n",
    "llama_llm = CTransformers(\n",
    "    model=llama_model_name, callbacks=[StreamingStdOutCallbackHandler()]\n",
    ")\n",
    "llm_hug = HuggingFaceHub(repo_id=llama_model_name)\n",
    "chat_history = FileChatMessageHistory('val_chat_history.json')\n",
    "chat_memory = ConversationBufferMemory(memory_key='chat_history', chat_memory=chat_history, return_messages=True)\n",
    "chat_prompt = ChatPromptTemplate.from_messages([SystemMessagePromptTemplate.from_template(template),\n",
    "                              MessagesPlaceholder(variable_name='chat_history'),\n",
    "                             HumanMessagePromptTemplate.from_template('{input}')])\n",
    "\n",
    "llm_chat_chain=ConversationChain(llm=llama_llm, prompt=chat_prompt, memory=chat_memory, verbose=False)\n",
    "while True:\n",
    "    content=input('Your prompt: ')\n",
    "    if content in ['exit', 'bye']:\n",
    "        print('Goodbye')\n",
    "        break\n",
    "    response = llm_chat_chain.run({'input': content})\n",
    "    print(response)\n",
    "    print('-'*20)\n",
    "    "
   ]
  },
  {
   "cell_type": "markdown",
   "id": "24827584-b302-409a-bd0c-0b7ed1af8f7c",
   "metadata": {},
   "source": [
    "## LORA Fine-tuning"
   ]
  },
  {
   "cell_type": "code",
   "execution_count": 8,
   "id": "de59f922-be3e-46af-9ae8-9d638ee79f00",
   "metadata": {},
   "outputs": [
    {
     "name": "stderr",
     "output_type": "stream",
     "text": [
      "D:\\projects\\venv\\Lib\\site-packages\\bitsandbytes\\cextension.py:34: UserWarning: The installed version of bitsandbytes was compiled without GPU support. 8-bit optimizers, 8-bit multiplication, and GPU quantization are unavailable.\n",
      "  warn(\"The installed version of bitsandbytes was compiled without GPU support. \"\n"
     ]
    },
    {
     "name": "stdout",
     "output_type": "stream",
     "text": [
      "'NoneType' object has no attribute 'cadam32bit_grad_fp32'\n"
     ]
    },
    {
     "name": "stderr",
     "output_type": "stream",
     "text": [
      "CUDA extension not installed.\n",
      "CUDA extension not installed.\n",
      "Using `disable_exllama` is deprecated and will be removed in version 4.37. Use `use_exllama` instead and specify the version with `exllama_config`.The value of `use_exllama` will be overwritten by `disable_exllama` passed in `GPTQConfig` or stored in your config file.\n",
      "D:\\projects\\venv\\Lib\\site-packages\\transformers\\generation\\configuration_utils.py:381: UserWarning: `do_sample` is set to `False`. However, `temperature` is set to `0.9` -- this flag is only used in sample-based generation modes. You should set `do_sample=True` or unset `temperature`. This was detected when initializing the generation config instance, which means the corresponding file may hold incorrect parameterization and should be fixed.\n",
      "  warnings.warn(\n",
      "D:\\projects\\venv\\Lib\\site-packages\\transformers\\generation\\configuration_utils.py:386: UserWarning: `do_sample` is set to `False`. However, `top_p` is set to `0.6` -- this flag is only used in sample-based generation modes. You should set `do_sample=True` or unset `top_p`. This was detected when initializing the generation config instance, which means the corresponding file may hold incorrect parameterization and should be fixed.\n",
      "  warnings.warn(\n"
     ]
    },
    {
     "name": "stdout",
     "output_type": "stream",
     "text": [
      "trainable params: 19988480 || all params: 282398720 || trainable%: 7.078105736456596\n"
     ]
    },
    {
     "name": "stderr",
     "output_type": "stream",
     "text": [
      "You're using a LlamaTokenizerFast tokenizer. Please note that with a fast tokenizer, using the `__call__` method is faster than using a method to encode the text followed by a call to the `pad` method to get a padded encoding.\n"
     ]
    },
    {
     "data": {
      "text/html": [
       "\n",
       "    <div>\n",
       "      \n",
       "      <progress value='10' max='10' style='width:300px; height:20px; vertical-align: middle;'></progress>\n",
       "      [10/10 31:10, Epoch 0/1]\n",
       "    </div>\n",
       "    <table border=\"1\" class=\"dataframe\">\n",
       "  <thead>\n",
       " <tr style=\"text-align: left;\">\n",
       "      <th>Step</th>\n",
       "      <th>Training Loss</th>\n",
       "    </tr>\n",
       "  </thead>\n",
       "  <tbody>\n",
       "    <tr>\n",
       "      <td>1</td>\n",
       "      <td>2.154000</td>\n",
       "    </tr>\n",
       "    <tr>\n",
       "      <td>2</td>\n",
       "      <td>3.207400</td>\n",
       "    </tr>\n",
       "    <tr>\n",
       "      <td>3</td>\n",
       "      <td>1.244000</td>\n",
       "    </tr>\n",
       "    <tr>\n",
       "      <td>4</td>\n",
       "      <td>2.055500</td>\n",
       "    </tr>\n",
       "    <tr>\n",
       "      <td>5</td>\n",
       "      <td>2.470100</td>\n",
       "    </tr>\n",
       "    <tr>\n",
       "      <td>6</td>\n",
       "      <td>2.304500</td>\n",
       "    </tr>\n",
       "    <tr>\n",
       "      <td>7</td>\n",
       "      <td>1.468100</td>\n",
       "    </tr>\n",
       "    <tr>\n",
       "      <td>8</td>\n",
       "      <td>1.693700</td>\n",
       "    </tr>\n",
       "    <tr>\n",
       "      <td>9</td>\n",
       "      <td>2.996100</td>\n",
       "    </tr>\n",
       "    <tr>\n",
       "      <td>10</td>\n",
       "      <td>1.785600</td>\n",
       "    </tr>\n",
       "  </tbody>\n",
       "</table><p>"
      ],
      "text/plain": [
       "<IPython.core.display.HTML object>"
      ]
     },
     "metadata": {},
     "output_type": "display_data"
    }
   ],
   "source": [
    "model_id = 'TheBloke/llama2-7b-chat-codeCherryPop-qLoRA-GPTQ'\n",
    "nf4_config = BitsAndBytesConfig(\n",
    "   load_in_4bit=True,\n",
    "   bnb_4bit_use_double_quant=True,\n",
    "    disable_exllama=True\n",
    ")\n",
    "config = AutoConfig.from_pretrained(model_id)\n",
    "config.quantization_config[\"disable_exllama\"] = True\n",
    "tokenizer = AutoTokenizer.from_pretrained(model_id)\n",
    "#model = AutoModelForCausalLM.from_pretrained(model_id, quantization_config=nf4_config, device_map=\"cpu\")\n",
    "model = LlamaForCausalLM.from_pretrained(model_id, torch_dtype=torch.float32, config = config, device_map=\"auto\")\n",
    "model.config.torch_dtype=torch.float32\n",
    "# Then we have to app\n",
    "# Then we have to apply some preprocessing to the model to prepare it for training. For that use the `prepare_model_for_kbit_training` method from PEFT.\n",
    "\n",
    "\n",
    "model.gradient_checkpointing_enable()\n",
    "model = prepare_model_for_kbit_training(model)\n",
    "\n",
    "def print_trainable_parameters(model):\n",
    "    \"\"\"\n",
    "    Prints the number of trainable parameters in the model.\n",
    "    \"\"\"\n",
    "    trainable_params = 0\n",
    "    all_param = 0\n",
    "    for _, param in model.named_parameters():\n",
    "        all_param += param.numel()\n",
    "        if param.requires_grad:\n",
    "            trainable_params += param.numel()\n",
    "    print(\n",
    "        f\"trainable params: {trainable_params} || all params: {all_param} || trainable%: {100 * trainable_params / all_param}\"\n",
    "    )\n",
    "\n",
    "\n",
    "\n",
    "# This configuration is for llama-2, in particular the target_modules\n",
    "\n",
    "config = LoraConfig(\n",
    "r=8, # dimension of the updated matrices\n",
    "lora_alpha=32, # parameter for scaling\n",
    "target_modules=[\"q_proj\", \"up_proj\", \"o_proj\", \"k_proj\", \"down_proj\", \"gate_proj\", \"v_proj\"],\n",
    "lora_dropout=0.1, # dropout probability for layers\n",
    "bias=\"none\",\n",
    "task_type=\"CAUSAL_LM\",\n",
    ")\n",
    "\n",
    "model = get_peft_model(model,config)\n",
    "print_trainable_parameters(model)\n",
    "\n",
    "data = load_dataset(\"Abirate/english_quotes\")\n",
    "def tokenize_and_cast_float32(batch):\n",
    "    tokenized_batch = tokenizer(batch[\"quote\"], padding=True, truncation=True, return_tensors=\"pt\")\n",
    "    # Convert float16 tensors to float32\n",
    "    \n",
    "    return tokenized_batch\n",
    "\n",
    "tokenizer.pad_token = tokenizer.eos_token\n",
    "data = data.map(tokenize_and_cast_float32, batched=True)\n",
    "\n",
    "\n",
    "# needed for gpt-neo-x tokenizer, but is it also needed for the llama tokenizer?\n",
    "tokenizer.pad_token = tokenizer.eos_token\n",
    "\n",
    "trainer = transformers.Trainer(\n",
    "    model=model,\n",
    "    train_dataset=data[\"train\"],\n",
    "    args=transformers.TrainingArguments(\n",
    "        per_device_train_batch_size=1,\n",
    "        gradient_accumulation_steps=1, # number of forward steps before running a backward step\n",
    "        warmup_steps=2,\n",
    "        save_steps=10,        \n",
    "        max_steps=10,\n",
    "        learning_rate=2e-4,\n",
    "        fp16=False,\n",
    "        logging_steps=1,\n",
    "        output_dir=\"outputs\",\n",
    "        #optim=\"paged_adamw_8bit\"\n",
    "    ),\n",
    "    data_collator=transformers.DataCollatorForLanguageModeling(tokenizer, mlm=False),\n",
    ")\n",
    "model.config.use_cache = False  # silence the warnings. Please re-enable for inference!\n",
    "trainer.train()\n",
    "\n",
    "trainer.save_model(\"my_custom_LoRA_trained_model\")"
   ]
  },
  {
   "cell_type": "markdown",
   "id": "b2567164-fec2-4e9d-bfc2-cd54ddcc4314",
   "metadata": {},
   "source": [
    "# Cohere"
   ]
  },
  {
   "cell_type": "code",
   "execution_count": 5,
   "id": "fe70b922-3229-4cb0-8a80-2a665a4947ab",
   "metadata": {},
   "outputs": [],
   "source": [
    "from langchain.callbacks.manager import CallbackManager\n",
    "from langchain.callbacks.streaming_stdout import StreamingStdOutCallbackHandler\n",
    "from langchain.chains import LLMChain\n",
    "from langchain.embeddings import CohereEmbeddings\n",
    "from langchain.prompts import PromptTemplate\n",
    "from langchain.llms import Cohere\n",
    "from langchain.chains import ConversationalRetrievalChain\n",
    "from langchain.memory import ConversationBufferWindowMemory\n",
    "from langchain.vectorstores import FAISS\n",
    "from langchain.text_splitter import RecursiveCharacterTextSplitter\n",
    "from llama_index import download_loader\n",
    "import os\n",
    "from langchain.chains import ConversationChain\n",
    "from langchain.memory import ConversationBufferMemory, FileChatMessageHistory \n",
    "from langchain.schema import SystemMessage\n",
    "from langchain.prompts import PromptTemplate, HumanMessagePromptTemplate, MessagesPlaceholder\n",
    "from langchain.llms import HuggingFaceHub\n",
    "from langchain.chains import ConversationChain\n",
    "from langchain.memory import ConversationBufferMemory\n",
    "from langchain.chat_models import ChatOpenAI\n",
    "from langchain.chains import LLMChain\n",
    "\n",
    "from langchain.prompts.chat import (\n",
    "    ChatPromptTemplate,\n",
    "    SystemMessagePromptTemplate,\n",
    "    AIMessagePromptTemplate,\n",
    "    HumanMessagePromptTemplate,\n",
    ")\n",
    "\n",
    "cohere_llm = Cohere(cohere_api_key=os.environ.get(\"COHERE_API_KEY\"))\n",
    "cohere_embeddings = CohereEmbeddings(cohere_api_key=os.environ.get(\"COHERE_API_KEY\"))"
   ]
  },
  {
   "cell_type": "code",
   "execution_count": 4,
   "id": "d6dff494-e4eb-40d5-a28d-f4dd4c4b6fd9",
   "metadata": {},
   "outputs": [
    {
     "name": "stdout",
     "output_type": "stream",
     "text": [
      "\n",
      "\n",
      "\u001b[1m> Entering new SimpleSequentialChain chain...\u001b[0m\n",
      "\u001b[36;1m\u001b[1;3m Jupiter is the largest planet in the solar system, with a diameter over 140,000 kilometers. This gas giant is composed mainly of hydrogen and helium, resembling the composition of the Sun. It is a bright object in the night sky and can sometimes be seen from Earth even without a telescope. Jupiter has a strong magnetic field, and its atmosphere is known to have many clouds of different substances, such as ammonia, hydrogen sulfide, and water. It also has the most moons of any planet in the solar system, with a total of 80 confirmed moons, 50 of which were discovered since 1975. \n",
      "\n",
      "The exploration of Jupiter has been primarily through spacecraft, starting with Pioneer 10 in 1973. This was followed by Voyager 1 and 2 in the 1970s, the Galileo spacecraft, which orbited Jupiter from 1995 to 2003, and recently by Juno since 2016. These spacecraft have provided valuable information about the planet's composition, magnetic field, and many moons. \n",
      "\n",
      "Jupiter is an intriguing planet for scientists studying planetary formation and evolution, as it provides a window into the early solar system. Its size and composition indicate that it may have played a role in the formation of the solar system. Furthermore, studying Jupiter can provide insight into the behavior of gas giants and exoplanets, as it\u001b[0m\n",
      "\u001b[33;1m\u001b[1;3m Jupiter's largest moon, Ganymede, is a fascinating subject for planetary research scientists due to its unique characteristics and dynamic relationships with both Jupiter and the solar system. With a diameter of around 5,268 kilometers, Ganymede is the largest moon in the solar system, even larger than the planet Mercury. This frozen moon possesses a subsurface ocean, making it an intriguing target for researchers investigating potential habitability and microbial life beyond Earth. Similar to Europa, another moon of Jupiter, Ganymede is believed to harbor an internal ocean, possibly containing salt water and harboring life. \n",
      "\n",
      "As a tectonically active moon, Ganymede experiences volcanic activity, which contributes to its varied surface features. Its distinctive surface is marked by both ancient and young craters, indicating a history of impacts, while also displaying evidence of tectonic movements, akin to the tectonic shifts on Earth. Furthermore, Ganymede possesses its magnetic field, generating insights into its own geological evolution and electromagnetic interactions with Jupiter's powerful magnetic field. \n",
      "\n",
      "The exploration of Ganymede has largely been through spacecraft missions, such as the Voyager probes in the 1970s and the Galileo spacecraft, which conducted extensive observations during its eight-year mission orbiting Jupiter. These missions have provided valuable\u001b[0m\n",
      "\n",
      "\u001b[1m> Finished chain.\u001b[0m\n"
     ]
    },
    {
     "data": {
      "text/plain": [
       "\" Jupiter's largest moon, Ganymede, is a fascinating subject for planetary research scientists due to its unique characteristics and dynamic relationships with both Jupiter and the solar system. With a diameter of around 5,268 kilometers, Ganymede is the largest moon in the solar system, even larger than the planet Mercury. This frozen moon possesses a subsurface ocean, making it an intriguing target for researchers investigating potential habitability and microbial life beyond Earth. Similar to Europa, another moon of Jupiter, Ganymede is believed to harbor an internal ocean, possibly containing salt water and harboring life. \\n\\nAs a tectonically active moon, Ganymede experiences volcanic activity, which contributes to its varied surface features. Its distinctive surface is marked by both ancient and young craters, indicating a history of impacts, while also displaying evidence of tectonic movements, akin to the tectonic shifts on Earth. Furthermore, Ganymede possesses its magnetic field, generating insights into its own geological evolution and electromagnetic interactions with Jupiter's powerful magnetic field. \\n\\nThe exploration of Ganymede has largely been through spacecraft missions, such as the Voyager probes in the 1970s and the Galileo spacecraft, which conducted extensive observations during its eight-year mission orbiting Jupiter. These missions have provided valuable\""
      ]
     },
     "execution_count": 4,
     "metadata": {},
     "output_type": "execute_result"
    }
   ],
   "source": [
    "\n",
    "#llm = AutoModelForCausalLM.from_pretrained(llama_model_name, model_file=\"llama-2-7b-chat.q4_K_M.gguf\", model_type=\"llama\", gpu_layers=50)\n",
    "# Prompt templates\n",
    "planet_template = '''\n",
    "You are a planetary research scientist. Write a 200 word summary about {planet}.\n",
    "'''\n",
    "planet_prompt = PromptTemplate(input_variables=['planet'], template=planet_template)\n",
    "planet_chain = LLMChain(llm=cohere_llm, prompt=planet_prompt)\n",
    "planet_ans2 = planet_chain.run({'planet': 'Mars'})\n",
    "moon_template = '''\n",
    "You are a planetary research scientist. Given a planet {planet}, write a 200 word summary about its largest moon.\n",
    "'''\n",
    "moon_prompt = PromptTemplate(input_variables=['planet'], template=moon_template)\n",
    "moon_chain = LLMChain(llm=cohere_llm, prompt=moon_prompt)\n",
    "planetary_system_chain = SimpleSequentialChain(chains=[planet_chain, moon_chain], verbose=True)\n",
    "planetary_system_chain.run('Jupiter')"
   ]
  },
  {
   "cell_type": "code",
   "execution_count": 9,
   "id": "03da7e71-7f7a-4ac4-a210-d36e9d20a5ef",
   "metadata": {},
   "outputs": [
    {
     "name": "stdout",
     "output_type": "stream",
     "text": [
      "Your prompt:  What's the capital of Bulgaria?\n"
     ]
    },
    {
     "name": "stdout",
     "output_type": "stream",
     "text": [
      " As an AI model, I don't have access to real-time information or databases like a regular search engine. Therefore, please excuse me if my reply is not up to date. \n",
      "\n",
      "The capital of Bulgaria is Sofia. It is also the largest city in the country with a population of around 1.3 million people. Sofia is known for its historical landmarks like the Saint Alexander Nevsky Cathedral and the Boyana Church. \n",
      "\n",
      "Would you like to know more about Sofia? \n",
      "--------------------\n"
     ]
    },
    {
     "name": "stdout",
     "output_type": "stream",
     "text": [
      "Your prompt:  exit\n"
     ]
    },
    {
     "name": "stdout",
     "output_type": "stream",
     "text": [
      "Goodbye\n"
     ]
    }
   ],
   "source": [
    "\n",
    "template = \"\"\"\n",
    "\n",
    "The following is a friendly conversation between a human and an AI. \n",
    "The AI is talkative and provides lots of specific details from its context. \n",
    "If the AI does not know the answer to a question, it truthfully says it does\n",
    "not know.\n",
    "\n",
    "Current conversation:\n",
    "Human: {input}\n",
    "AI Assistant:\"\"\"\n",
    "chat_history = FileChatMessageHistory('val_chat_history.json')\n",
    "chat_memory = ConversationBufferMemory(memory_key='chat_history', chat_memory=chat_history, return_messages=True)\n",
    "chat_prompt = ChatPromptTemplate.from_messages([SystemMessagePromptTemplate.from_template(template),\n",
    "                              MessagesPlaceholder(variable_name='chat_history'),\n",
    "                             HumanMessagePromptTemplate.from_template('{input}')])\n",
    "\n",
    "llm_chat_chain=ConversationChain(llm=cohere_llm, prompt=chat_prompt, memory=chat_memory, verbose=False)\n",
    "while True:\n",
    "    content=input('Your prompt: ')\n",
    "    if content in ['exit', 'bye']:\n",
    "        print('Goodbye')\n",
    "        break\n",
    "    response = llm_chat_chain.run({'input': content})\n",
    "    print(response)\n",
    "    print('-'*20)\n",
    "    "
   ]
  },
  {
   "cell_type": "markdown",
   "id": "9f8510a3-64df-474f-9988-d318541253d3",
   "metadata": {},
   "source": [
    "## Use Agent to Download YouTube video and chatbot to interrogate it"
   ]
  },
  {
   "cell_type": "code",
   "execution_count": 6,
   "id": "b4f81155-58cb-4471-ab32-c12257aadcf4",
   "metadata": {},
   "outputs": [
    {
     "name": "stdout",
     "output_type": "stream",
     "text": [
      "Enter the youtube link:  https://www.youtube.com/watch?v=9t5Q_BXuaoU\n"
     ]
    },
    {
     "name": "stdout",
     "output_type": "stream",
     "text": [
      "########################################\n",
      "\n"
     ]
    },
    {
     "name": "stdout",
     "output_type": "stream",
     "text": [
      "ASK:  How many superhabitable worlds have been found?\n"
     ]
    },
    {
     "name": "stdout",
     "output_type": "stream",
     "text": [
      "\n",
      "----------------------------------------\n",
      "\n",
      "CohereAI says: \n",
      "\n",
      " According to the provided context, researchers have found 24 potential superhabitable worlds. However, it's important to note that only one of these candidates has been confirmed, Kepler 1126b. \n",
      "\n",
      "Would you like to know more about these potential planets?  \n",
      "\n",
      "########################################\n",
      "\n"
     ]
    },
    {
     "name": "stdout",
     "output_type": "stream",
     "text": [
      "ASK:  What are the criteria for superhabitable worlds?\n"
     ]
    },
    {
     "name": "stdout",
     "output_type": "stream",
     "text": [
      "\n",
      "----------------------------------------\n",
      "\n",
      "CohereAI says: \n",
      "\n",
      " To be labeled a superhabitable planet, an exoplanet must satisfy various criteria related to its characteristics. These include necessities such as orbiting an orange dwarf star, having a mass 1.5 times greater than Earth's, being between five and eight billion years old, and having a width at least 10% greater than Earth's. Additionally, these planets must be old enough for complex life to have ample time to emerge and evolve. Superhabitable worlds must be able to maintain a sufficient atmosphere and have a greater likelihood of having expanses of habitable land. While not every underwater world can be considered a superhabitable planet, it is possible for marine ecosystems, which we already know exist on Earth, to thrive on these planets. \n",
      "\n",
      "Would you like to know more about any of the criteria or specifications mentioned?  \n",
      "\n",
      "########################################\n",
      "\n"
     ]
    },
    {
     "name": "stdout",
     "output_type": "stream",
     "text": [
      "ASK:  Why is earth not considered superhabitable?\n"
     ]
    },
    {
     "name": "stdout",
     "output_type": "stream",
     "text": [
      "\n",
      "----------------------------------------\n",
      "\n",
      "CohereAI says: \n",
      "\n",
      " Earth fails to be classified as a superhabitable planet because it does not possess all the characteristics that the astrophysicists value in a superhabitable world. Superhabitable planets are theorized to be older, larger, warmer, and wetter than Earth, which is already favorable for biodiversity. Among the properties of superhabitable planets that Earth does not fulfill are the following:\n",
      "\n",
      "1. **Slower revolution**: Superhabitable planets revolve around their stars more slowly than Earth does.\n",
      "2. **Temperature**: Earth's temperature is not ideal for biodiversity because it is too cool in temperate regions. The ideal temperature for a superhabitable planet would be approximately 5 degrees Celsius (9 degrees Fahrenheit) warmer than Earth.\n",
      "3. **Atmosphere**: A superhabitable planet is envisioned to possess an atmosphere composed of 25% to 30% oxygen, with the remainder composed of inert gases. This specific atmospheric composition serves as an ideal condition. \n",
      "\n",
      "Superhabitable planets are envisioned to possess these characteristics alongside others, such as a strong geological and geochemical recycling mechanism akin to Earth's plate tectonics and a robust magnetic field. \n",
      "\n",
      "Would you like me to elaborate on any of the criteria that Earth fails to meet to be considered a superhab \n",
      "\n",
      "########################################\n",
      "\n"
     ]
    },
    {
     "name": "stdout",
     "output_type": "stream",
     "text": [
      "ASK:  What about moons?\n"
     ]
    },
    {
     "name": "stdout",
     "output_type": "stream",
     "text": [
      "\n",
      "----------------------------------------\n",
      "\n",
      "CohereAI says: \n",
      "\n",
      " Moons are not typically considered for superhabitable world criteria, as the definition of such a world is based on characteristics pertaining to planets. The definition of a superhabitable world consists of planets that possess certain features that hypothetically could support an even higher level of biodiversity than Earth. These criteria include characteristics such as orbiting a specific type of star, a certain age, a minimum mass, and a minimum size. \n",
      "\n",
      "While moons, such as Europa and Enceladus, are not considered superhabitable worlds, they do possess unique features and characteristics that may contribute to a potentially habitable environment. They exhibit icy surfaces and oceans beneath, which could potentially harbor life. It is important to note that our current understanding of moons and their potential habitability is still developing, and further discoveries may influence future definitions of superhabitable worlds. \n",
      "\n",
      "Would you like to know more about moons and their potential habitability?  \n",
      "\n",
      "########################################\n",
      "\n"
     ]
    },
    {
     "name": "stdout",
     "output_type": "stream",
     "text": [
      "ASK:  end\n"
     ]
    }
   ],
   "source": [
    "file_path = input('Enter the youtube link: ')\n",
    "\n",
    "YoutubeTranscriptReader = download_loader(\"YoutubeTranscriptReader\")\n",
    "documents = YoutubeTranscriptReader().load_data(ytlinks=[file_path])\n",
    "\n",
    "documents = [doc.to_langchain_format() for doc in documents]\n",
    "text_splitter = RecursiveCharacterTextSplitter()\n",
    "documents = text_splitter.split_documents(documents)\n",
    "\n",
    "embeddings = cohere_embeddings\n",
    "retriever = FAISS.from_documents(documents, embeddings).as_retriever(k=4)\n",
    "\n",
    "llm=cohere_llm\n",
    "\n",
    "memory = ConversationBufferWindowMemory(\n",
    "                                    memory_key='chat_history',\n",
    "                                    return_messages=True,\n",
    "                                    k=6\n",
    "                                  )\n",
    "\n",
    "conversation = ConversationalRetrievalChain.from_llm(\n",
    "    llm=llm, \n",
    "    retriever=retriever,\n",
    "    # verbose=True, \n",
    "    memory=memory,\n",
    "    max_tokens_limit=1536  \n",
    ")\n",
    "\n",
    "def chatbot(pt):\n",
    "    res = conversation({'question': pt})['answer']\n",
    "    return res\n",
    "\n",
    "if __name__=='__main__':\n",
    "    while True:\n",
    "        print('########################################\\n')\n",
    "        pt = input('ASK: ')\n",
    "        if pt.lower()=='end':\n",
    "            break\n",
    "        response = chatbot(pt)\n",
    "        print('\\n----------------------------------------\\n')\n",
    "        print('CohereAI says: \\n')\n",
    "        print(response, '\\n')"
   ]
  },
  {
   "cell_type": "markdown",
   "id": "1e58626b-1d2c-4969-a628-0d7d290f563b",
   "metadata": {},
   "source": [
    "# Multi-agent Chain"
   ]
  },
  {
   "cell_type": "code",
   "execution_count": 6,
   "id": "ed37a8fc-442b-4a00-b24e-2db2acf46d99",
   "metadata": {},
   "outputs": [],
   "source": [
    "from langchain.chains.router import MultiPromptChain\n",
    "from langchain.chains.router.llm_router import LLMRouterChain,RouterOutputParser\n",
    "from langchain.prompts import PromptTemplate\n",
    "from langchain.prompts import ChatPromptTemplate\n",
    "physics_template = \"\"\"You are a very smart physics professor. \\\n",
    "You are great at answering questions about physics in a concise\\\n",
    "and easy to understand manner. \\\n",
    "When you don't know the answer to a question you admit\\\n",
    "that you don't know.\n",
    "\n",
    "Here is a question:\n",
    "{input}\"\"\"\n",
    "\n",
    "\n",
    "math_template = \"\"\"You are a very good mathematician. \\\n",
    "You are great at answering math questions. \\\n",
    "You are so good because you are able to break down \\\n",
    "hard problems into their component parts,\n",
    "answer the component parts, and then put them together\\\n",
    "to answer the broader question.\n",
    "\n",
    "Here is a question:\n",
    "{input}\"\"\"\n",
    "\n",
    "history_template = \"\"\"You are a very good historian. \\\n",
    "You have an excellent knowledge of and understanding of people,\\\n",
    "events and contexts from a range of historical periods. \\\n",
    "You have the ability to think, reflect, debate, discuss and \\\n",
    "evaluate the past. You have a respect for historical evidence\\\n",
    "and the ability to make use of it to support your explanations \\\n",
    "and judgements.\n",
    "\n",
    "Here is a question:\n",
    "{input}\"\"\"\n",
    "\n",
    "MULTI_PROMPT_ROUTER_TEMPLATE = \"\"\"Given a raw text input to a \\\n",
    "language model select the model prompt best suited for the input. \\\n",
    "You will be given the names of the available prompts and a \\\n",
    "description of what the prompt is best suited for. \\\n",
    "You may also revise the original input if you think that revising\\\n",
    "it will ultimately lead to a better response from the language model. Please keep the answer under 200 words\n",
    "\n",
    "<< FORMATTING >>\n",
    "Return a markdown code snippet with a JSON object formatted to look like:\n",
    "```json\n",
    "{{{{\n",
    "    \"destination\": string \\ name of the prompt to use or \"DEFAULT\"\n",
    "    \"next_inputs\": string \\ a potentially modified version of the original input\n",
    "}}}}\n",
    "```\n",
    "\n",
    "REMEMBER: \"destination\" MUST be one of the candidate prompt \\\n",
    "names specified below OR it can be \"DEFAULT\" if the input is not\\\n",
    "well suited for any of the candidate prompts.\n",
    "REMEMBER: \"next_inputs\" can just be the original input \\\n",
    "if you don't think any modifications are needed.\n",
    "\n",
    "<< CANDIDATE PROMPTS >>\n",
    "{destinations}\n",
    "\n",
    "<< INPUT >>\n",
    "{{input}}\n",
    "\n",
    "<< OUTPUT (remember to include the ```json)>>\"\"\"\n",
    "\n",
    "# Defining the prompt templates\n",
    "prompt_infos = [\n",
    "    {\n",
    "        \"name\": \"physics\",\n",
    "        \"description\": \"Good for answering questions about physics\",\n",
    "        \"prompt_template\": physics_template\n",
    "    },\n",
    "    {\n",
    "        \"name\": \"math\",\n",
    "        \"description\": \"Good for answering math questions\",\n",
    "        \"prompt_template\": math_template\n",
    "    },\n",
    "    {\n",
    "        \"name\": \"History\",\n",
    "        \"description\": \"Good for answering history questions\",\n",
    "        \"prompt_template\": history_template\n",
    "    }\n",
    "]"
   ]
  },
  {
   "cell_type": "code",
   "execution_count": 8,
   "id": "66b81cd4-3ef1-46d8-b95e-d4ce133bd2a6",
   "metadata": {},
   "outputs": [],
   "source": [
    "destination_chains = {}\n",
    "for p_info in prompt_infos:\n",
    "    name = p_info[\"name\"]\n",
    "    prompt_template = p_info[\"prompt_template\"]\n",
    "    prompt = ChatPromptTemplate.from_template(template=prompt_template)\n",
    "    chain = LLMChain(llm=cohere_llm, prompt=prompt)\n",
    "    destination_chains[name] = chain\n",
    "\n",
    "destinations = [f\"{p['name']}: {p['description']}\" for p in prompt_infos]\n",
    "destinations_str = \"\\n\".join(destinations)\n",
    "\n",
    "default_prompt = ChatPromptTemplate.from_template(\"{input}\")\n",
    "default_chain = LLMChain(llm=cohere_llm, prompt=default_prompt)\n",
    "\n",
    "router_template = MULTI_PROMPT_ROUTER_TEMPLATE.format(\n",
    "    destinations=destinations_str\n",
    ")\n",
    "router_prompt = PromptTemplate(\n",
    "    template=router_template,\n",
    "    input_variables=[\"input\"],\n",
    "    output_parser=RouterOutputParser(),\n",
    ")\n",
    "\n",
    "router_chain = LLMRouterChain.from_llm(cohere_llm, router_prompt)\n",
    "total_chain = MultiPromptChain(router_chain=router_chain,\n",
    "                         destination_chains=destination_chains,\n",
    "                         default_chain=default_chain, verbose=True\n",
    "                        )\n"
   ]
  },
  {
   "cell_type": "code",
   "execution_count": 9,
   "id": "fed7525a-f503-4485-88ad-6d5408af60e2",
   "metadata": {},
   "outputs": [
    {
     "name": "stdout",
     "output_type": "stream",
     "text": [
      "\n",
      "\n",
      "\u001b[1m> Entering new MultiPromptChain chain...\u001b[0m\n"
     ]
    },
    {
     "name": "stderr",
     "output_type": "stream",
     "text": [
      "D:\\projects\\venv\\Lib\\site-packages\\langchain\\chains\\llm.py:321: UserWarning: The predict_and_parse method is deprecated, instead pass an output parser directly to LLMChain.\n",
      "  warnings.warn(\n"
     ]
    },
    {
     "name": "stdout",
     "output_type": "stream",
     "text": [
      "History: {'input': 'Where was agriculture first developed historically?'}\n",
      "\u001b[1m> Finished chain.\u001b[0m\n"
     ]
    },
    {
     "data": {
      "text/plain": [
       "' Agriculture, or the practice of cultivating crops and raising livestock for food, fibre, and fuel, has a long and varied history across the globe. While its exact origins are still debated, scholars generally agree that agriculture originated in the Fertile Crescent, a region in the Middle East including modern-day Iraq, Syria, Jordan, Israel, Palestine, southeastern Turkey, and western Iran.\\n\\nThe Fertile Crescent boasts a favourable climate, ample water sources, and rich soil, which made it an ideal location for early humans to transition from hunter-gatherer lifestyles to agricultural settlements. Around 12,000 years ago, known as the Neolithic Period, ancient civilizations in the region began cultivating wild crops like wheat, barley, and legumes, as well as domesticating animals like sheep, goats, and cattle.\\n\\nThe development of agriculture in the Fertile Crescent set off a series of technological, economic, and societal changes that transformed human civilization. With the ability to produce food in larger quantities and reliably, populations could settle in specific regions, establishing the first permanent communities and cities. This shift from nomadic hunting to settled agriculture also spurred innovations in toolmaking, pottery, and other necessary technologies for developing societies.\\n\\nAs agriculture spread from the Fertile Crescent to other'"
      ]
     },
     "execution_count": 9,
     "metadata": {},
     "output_type": "execute_result"
    }
   ],
   "source": [
    "total_chain.run(\"Where was agriculture discovered?\")"
   ]
  },
  {
   "cell_type": "markdown",
   "id": "b54490fa-da38-4c29-87aa-687b3ed48c33",
   "metadata": {},
   "source": [
    "# Whisper"
   ]
  },
  {
   "cell_type": "code",
   "execution_count": 12,
   "id": "308b06bb-8a4e-4b85-b3b4-20c6303ddb4e",
   "metadata": {},
   "outputs": [
    {
     "name": "stdout",
     "output_type": "stream",
     "text": [
      "Audio loaded successfully.\n"
     ]
    }
   ],
   "source": [
    "from pytube import YouTube\n",
    "from moviepy.editor import VideoFileClip\n",
    "from pydub import AudioSegment\n",
    "import whisper\n",
    "def download_youtube_video(url, output_path='video.mp4'):\n",
    "    youtube = YouTube(url)\n",
    "    video_stream = youtube.streams.filter(only_audio=True, file_extension='mp4').first()\n",
    "    video_stream.download(output_path)\n",
    "\n",
    "def extract_audio(video_path, output_path='audio.wav'):\n",
    "    video_clip = VideoFileClip(video_path)\n",
    "    audio_clip = video_clip.audio\n",
    "    audio_clip.write_audiofile(output_path, codec='wav')\n",
    "\n",
    "def main():\n",
    "    youtube_url = 'https://www.youtube.com/watch?v=9t5Q_BXuaoU'\n",
    "    video_path = 'D:/projects/extrasolar.mp4'\n",
    "    audio_output_path = 'D:/projects/extrasolar.wav'\n",
    "\n",
    "    download_youtube_video(youtube_url, video_path)\n",
    "    extract_audio(video_path, audio_output_path)\n",
    "\n",
    "try:\n",
    "    audio = whisper.load_audio(\"Mistletoe_and_Wine.mp3\")\n",
    "    print(\"Audio loaded successfully.\")\n",
    "except FileNotFoundError as e:\n",
    "    print(f\"Error: {e}\")\n",
    "except Exception as e:\n",
    "    print(f\"An unexpected error occurred: {e}\")"
   ]
  },
  {
   "cell_type": "code",
   "execution_count": 13,
   "id": "ba54dacd-3c20-4bf7-97df-2b81e25b1972",
   "metadata": {},
   "outputs": [],
   "source": [
    "whisper_model=whisper.load_model('base') # Largest free model. It's multilingual\n",
    "option=whisper.DecodingOptions(language='en', fp16=True) # fp16 is for GPU, fp32 is for CPU"
   ]
  },
  {
   "cell_type": "code",
   "execution_count": 22,
   "id": "d418584c-38f0-4b17-9d68-9b78fc9a9df2",
   "metadata": {},
   "outputs": [],
   "source": [
    "results=whisper_model.transcribe(\"space_show_test.mp3\")"
   ]
  },
  {
   "cell_type": "code",
   "execution_count": 23,
   "id": "1404532f-9dfc-47bb-878a-fbda06909cdd",
   "metadata": {},
   "outputs": [
    {
     "data": {
      "text/plain": [
       "\" To views and comments, express them a space show. Buy its guests, collars, and listeners, belong to them. The space show and its hosts serve only as a platform, and are not responsible for others' comments or views. All topics discussed on a space show are primarily for educational purposes. We choose to go to the pool with this big, and do the other thing. We have a third, third, wähle, and a third. One, it's the space show. I got to give you a way to do it. One question, in case of a comment, is to really leave you, while we use interviews with a vast and wide audience in the room space audience. Here is the comment, and who's got the space show. They are the best archivally to the use of space for their hornabas. Dr. David Williams. Good evening, everybody. Welcome to the Tuesday evening space show program. I'm your host, David Livingston, still with a rough and scratchy voice from my little bouts with COVID over the last three weeks. But we will get through it, and we have a great guest with us, Dr. Beneroyah, who can do most of the talking, especially since we're entering his world of expertise. He's a couple of quick announcements. Excuse me, this is a 60-minute program. So if you do want to engage with Dr. Beneroyah by email or by telephone, watch your clock, and remember that we're on a 60-minute program. As far as upcoming shows, Hotel Mars tomorrow is with a scientist. I don't have his name right in front of me, but he's been using the James Webb Telescope. And he has discovered what he believes to be the oldest black hole ever discovered. And that should be an interesting Hotel Mars program tomorrow. Friday, a former retired astronaut, Dr. Tom Jones, is with us again. He's been a guest on the show over the years several times. And he has a new book out called Space Shuttle Stories. It should be a lot of fun to talk to him about it, and we can ask him about other things as well. Starting Sunday, November 19, there will be no live programs until December 1. And that is because I'm driving back to Northern California for Thanksgiving holiday with the family. And I chose to drive rather than fly, because I don't want to mingle with a lot of people at airports and on airplanes, having just gotten back over COVID and dealing with all that, plus Thanksgiving is a lousy kind of fly with canceled flights and delays and all that crap. So I'm doing Golden Ode this week. So starting on Sunday, you will read a recommended Golden Ode this program with a fundraising message, because we are in our annual fundraising drive to support the space show for the coming year 2024. And we absolutely need your support to do that. And if you like the show and you like the guest and you like our live broadcast format, then please do financially support us on our homepage at spaceshow.com. There is a PayPal link in the upper right corner that is still the easiest way to support us. For those of you in the United States only, you can use Zell and the email address for that is David at onegiantleapfoundation.org. It goes directly to the one giant leap chase bank account. If you use Zell, I'm still having trouble with the host of that email account. So please give me a heads up on Dr. Space at thespaceshow.com that you sent to Zell contribution, so I can check the Chase website for it and make sure it's come in and to send you the proper acknowledgement and thanks. And I'll let you know when this ridiculous email program problem is resolved, but it's like trying to deal with customer service when they connect you to India, although this customer service is in America. I'm not sure it's any different. As I said, this is our fundraising period. We hope you will support it. Your gifts are tax deductible if you are a US taxpayer. And if you have any questions, let me know. And those of you who might be interested in being a sponsor or an advertiser, we do have our sponsor programs. And you can find out more about them, the banner ads, and the PR messages. If you email me at Dr. Space at thespaceshow.com. And on the shorter format programs like tonight, I read off the sponsors and thank them very much. We would not be doing the show without them. Northrop Grumman, AIAA, Heleaks, Space in Luxembourg, the National Space Society, Celestis, Astroc Corporation, Dr. Heim Beneroya, the Space Foundation, and John Jocsi with his Space Selems Space Progress blog. And that banner ad is already up and I will be getting his PR message shortly. And we will be including that message in our PR portion of the sponsor information. If you are interested in being a sponsor, having the banner ad, having your message read on the longer format shows, please email me for details at Dr. Space at thespaceshow.com. As I said, our guest today is Dr. Beneroya. Probably most of you don't need an intro because he is a frequent guest on the show. And he is very, very well known. And his two books on lunar development and halves are part of his sponsorship message and his banner ad. If you buy those books through that link, Amazon Donate Supportion of your purchase price to the Space Show. Dr. Beneroya is a professor of mechanical engineering, mechanical and aerospace engineering. Excuse me, at Rutgers, which is the State University of New Jersey. He is also a very well known noted lecturer at National Space Gigs. And he is a devoted space advocate as well. He has received his PhD in Master's in Engineering for the University of Pennsylvania. His space interests include the modeling of space and lunar based structures, space business and tech transfer, as well as the economic and political factors that really get into the nitty gritty of space commerce. He has published many related articles. He's been on the show a lot. He sometimes comes on with some of his graduate students that have terrific projects and have written great graduate papers. And we are always happy to feature his grad students on the show. And we have Dr. Beneroya with us again this year. So, Hi, and welcome back to the program again. I think that's two or three times this year including Hotel Mars. Thanks, I guess I should get my own microphone. Yeah, I think you're from a media guru. You'll be like Carl Sagan if you can say the word. That's very safe. Lately on the space show, we have been getting discussion and we're seeing articles. And we're seeing a lot of activity if not on the space show, but in the blogosphere and in email list, that space is pretty hard. And some of the space settlement advocates and dreamers may be kind of biting off more than they can chew, because we're not ready there. Ready yet. We're not even close to being ready yet. So, it's much more than can we get nuclear power on the moon, or build a habitat in a lobotube or a surface structure like you've talked about on the show before. What's the real truth about our readiness to live off a planet Earth? Right, I think that's that many times what's not said. And whenever I talk about little settlements to my students who are all engineering students, I always tell them that the engineering is hard and a lot of it we haven't figured out yet. But the human physiology, the human psychology is even harder, and there's a lot more there that we haven't figured out. And a lot of it is fatal or very debilitating. And you can go through everything from just the psychological issues, physiological issues. I'm sure you're with this. No, a lot of it, for example, just the physiological perspective, radiation, even though we know about radiation and hydrogenilic, the shielding is never as good as you have it on the surface of the Earth if we're on the lunar surface. So, we're always getting a little bit more radiation than we should. Then the other big deal is also just adaptation to microgravity. A lot of things happen when you're in microgravity, and you really have a lot of issues related to just things, for example. Blood flow doesn't operate properly. It cataracts. There's a lot of things that happen as a part of the fact that your body is now in a low gravity environment, or say you're going to Mars, then you're in a microgravity environment. So, once you have one of these good designers, there's a specific one that's going to rotate the DVR to physical gravity, which may be the only way to really do it. But I don't really see that in the immediate future. So, there's a lot of issues that we really have to deal with. And unfortunately, some of them really can't figure out who really are in a low gravity environment, for example. And of course, there's all the psychological issues of being isolated being in a place where you really have a very little contact with your family at home. You have major disruptions. You're living in a very small confined quarters, and you have machine-less all the time. You don't sleep well. You don't... your hygiene is limited. So, we're talking about across-the-board issues that really... Probably the average person wouldn't survive in that environment, and even be trained out to others who is selected based on ability to survive in these conditions will be extremely challenged. So, the follow-up question would be that we've been talking about a lot of these issues since I started this face-own in 2001, and I was actually a late-comer to the topic, people that formed the Space Frontier Foundation 20 years before that. For example, and you know the organization and the people have been talking about some of this stuff on and on, some of the problems like cognitive issues, eye issues, they have been more recent medical discoveries from longer-term durations on the Space Station, and things like that. So, they're a little bit more current, but they're not resolved even doing hours of exercise in their special machines. It doesn't resolve all of this stuff, and we're in Leo, which is protected from radiation to a certain extent. So, how are we doing at preparing for solving these problems? I mean, we listen to Kamaskin. He's getting ready to send hundreds of not-thousands of people to Mars as soon as the spaceship is ready to go. We, the other people are talking about it. We've got these private space stations that are supposed to be up and running around 2030, something like that, not too far away. I don't hear much about the actual pace of development, and let's say, let's take the top 10 medical, psychological, engineering, you know, environmental issues like a totally closed system. Do we really need that? Some say yes, some say no. If we made a list of the top 10 or 15 medical and engineering things, and you were going to go down that list and say, item number one, making great progress, we'll have resolutions to that in two years. Item number three, five years. Item number seven, not working on that at all yet. We have no idea when we'll be able to handle microgravity and eye problems, you know, and all down the list. How are we doing? Are we making progress to knock these challenges down so that we can do them, or do they just loom there? Like we've been talking time about we need to determine the gravity prescription for reproduction and for human survival in space, and we've not done any of that. Yes, certainly the last one that you mentioned. We may understand it more, but we don't have a solution for it. I mean, for example, my understanding is that there is no acceptable level of radius and that is safe for humans, so we get a tiny bit over time that causes damage to our system. And one thing that radiation does is induce DNA damage. So if we're talking about having pregnancies and births on the moon, on Mars, even with all the shielding, we're still going to be risking radiation damage. So that's sort of one of the big issues I can mention the fact that we're going to be in a low gravity environment. The gravity is really a big thing. If we send gears up there, and they're not going to have children, but I understand because of their age, the radiation is less damaging to their cells, is that a solution? Well, it might be an initial solution, maybe that solution so that we get some more data, and then sort of get braver and send younger and younger people. I would say that's certainly part of a solution. But you know, there's a lot of other things that also come with human traveling in space besides things like cancer, cataract, cardiovascular issues. There's also a difficult decline, there's a compromised immune system. So we're talking about a lot of things, basically almost everything that can go wrong with a human body does go wrong over time. And we don't really recover from it, you know, so even if we're talking, I'm not going to show a lot of tubes go out back. And we talked about, you know, we put our cities underground and a lot of tubes and so we protect our cell committee, so the temperature extremes, et cetera, et cetera. But we still have a low gravity there, that doesn't change. So that's a big issue. So, you know, we know that when we send people into space, it takes them months to adapt to that environment. So for example, you know, your disorientation takes a while, the fluid's intellectualized in your body takes a while in your cardiovascular system. And they'll take different times to basically approach sort of an equilibrium. But after a few months, a lot of the problems just keep getting worse and worse. For example, Boulder and Calcium metabolism, you're losing like 1 to 2% of your bone mass every month. So even with exercising. So some of these issues may not be terrible, but some of them may be especially fatal over time. So, listen, I want to pause a minute because I forgot to make an announcement up front that I feel is worth pausing and that is dimension, although I'm sure all of you know by now, that we lost astronaut Frank Bournemann about four days ago. He's left the planet for good. And he was a terrific astronaut contributed a lot to our space program. From the people I know that knew him, said he was a really genuinely nice guy. He left New Mexico and moved to Montana. His wife passed away several years ago, I believe, from cancer. And Frank passed away at age 95, I think it was about four days ago. So we certainly honor and pay tribute to the life of a former astronaut Frank Bournemann and Apollo 8 and other missions that he served on. He was a really true American hero and he was less in love with the space program than he was devoted to defeating the Soviet Union in the Cold War. And his methodology for doing that was through the space program. And he and other astronauts of the time served that mission very well in my opinion. So we certainly honor and pay memory to Frank Bournemann. He was never a guest on the space show. I wish he had been, but that didn't work out. But I think we lost a good one. And so I wanted to get that messaging and kind of some sorry I stepped on your program. No, no worries, no worries. Did you ever meet Frank Bournemann? No, no. I don't know if you other astronauts, but they were him. Certainly his flight around the moon was pivotal to the South Republic landings on the moon. You know, we I was talking to some friends today and if he was going to do that flight today and read from Genesis in the Bible, I bet you'd ten bucks that he would not be allowed to read from the Bible today. That's interesting. I mean, we have no way of knowing, but I maybe maybe he just wouldn't listen to the world. He didn't know the rule and just do whatever he wanted out there. Then they then they might have cut it in the end of the passage out. That's true. Or a cantist sorry asked for it. But in today's culture wars and what's going on in the country with religion and in this that and the other my my hunch is that on public money reading from the old testament from Genesis. I think that would be considered for button. I was just my opinion. I don't know. You know, I was at a lot of space conferences with Apollo and in Mercury and in and Jim and I asked for nuts and I met a lot of them, not all of them were willing to come on the show for a variety of reasons. But I met quite a few of them and quite a few of them did come on the show that I never saw Frank Foreman at a conference. I don't think he wanted to go. I know he was involved with probably one of the largest, if not the largest Ford dealership in Las Cruces in Mexico. I mean it was huge in service car sales all across the country. And then he moved to Montana regarding his wife and illness and then he moved up there because the commute was pretty crappy from New Mexico to Billings and it was out of the car business. It was a president of an airline. What's it mean? Yeah, that's kind of a dark period for him. He was the head of Eastern Airlines and under his tutelage is that the right word or leadership Eastern folded into oblivion. So he did not. I mean there's a lot of reasons for Eastern Spailier. Some say he inherited the mess and could not straighten it out. And others say his policies and decisions took him into the shithouse. I don't know the facts. I do know that I flew Eastern several times from San Francisco to different space conferences and to the East Coast. Eastern was a major airline coming in and out of San Francisco. And it disappeared. But lots of airlines disappeared. National Western. That thing, fun jet. I forget what they called it that flew in Arizona and Nevada and California. The Nance Airlines is what it was called PSA which I love because it introduced stewardesses in short short mini skirts. And then air California which copied PSA. And you could fly to LA round trip for 25 bucks back then. So yeah, that was the real golden era of airlines. I think when they deregulated. They pretty much made sure that some of the short runs would disappear and the airlines would have to merge. Yeah, we lost TWA. They merged into into America. And then I am disappeared. And Pan Am was a great institution. And they even tried doing domestic flights to save Pan Am. And could not do it. And as I said national, I used to fly to Houston all the time on national. And anyway, the deregulation changed the airline. I'm not sure it changed it for the best although the fares did get lower. But look at all the chaos we have with airlines and scheduling now. And we got a department of transportation that couldn't fix the transportation problem even when it's sitting on its doorstep. So that's another story. You got to have someone who really understands transportation and transportation models and has to be hands on with trains and airplanes and highways and all of that. And when you don't have that competence, you've got chaos in the skies and on the rails. And we've certainly had that over the last several years. But yeah. Frank took Eastern into oblivion. So I guess that's a blemish on his record whether he inherited or cost it. I don't know the answer to that. But may he rest in peace? And may he have all the answers he ever sought about the universe and wherever he is right now? So I wish I had met him. And I wish he had been a guest on the show, but it just did not work out. Anyway, going back to trying to get our butts off space into settlement or even into longer stay missions on the surface of the moon. You come on the show and you talk about all these habitats and the designs. And you've talked about being in lava tube mostly on the moon, but sometimes on Mars. But we don't talk about this mixture of what the hell are you talking about? This stuff awaits us. How in the hell are we ever going to get through this? You don't talk about that. You talk about how we can build a ship, a ship, a ship, a have on the moon, an even a self inflating have after it lands. But where is all this supplemental under the table stuff behind the scene stuff that's going to allow all this to happen? So now's your chance to talk about it rather than just list it as a list. And if you're not working on it, are we just screwing ourselves playing with our, what are we doing? If this will be where the focus is? Right. Well, I have to say that there's a tremendous amount of research on all these medical issues within NASA, at various medical facilities, German aerospace, the Japanese. Everybody is researching different aspects to different degrees. And the research has been going on for decades. I think there's an awareness. But I think people enjoy talking about the technology more than the things that will stop us from doing this stuff. And, you know, I mean, there's a lot of things that weightlessness best your body. You know, as you said earlier, you have a lot of business circulates the way it normally does. It will cool. And then you know, upper part of your body. I'm sure the clothes don't work because they're based on a blood flow throughout your body. So there are these issues. And then the other environmental issues with the motor, particularly the models as well, the other regular affair. It is a carcinogenic. It goes very deep into your lungs. It clogs up ears and mechanisms. And you have to, you know, many times when you look at these robot artists, when robots on the moon are basically using 3D printing, layered manufacturing, the build structures. There is clean. So the data came out of the factory where it's on the moon day. But then they're pretty dusty, pretty quick. But I would say that NASA certainly understands this. In fact, they know it from experience. They know that how they're rovers. The solar panels on their rovers get covered by Martial dust and stop working. So they do understand this. I know that they've had a lot of studies on it. So I would say there's some things that sort of environmental and I've had people and machines. But I think that the solutions that major solutions aren't there yet. So a cryptomars, you know, no matter what you do, even if you rotate it on the way to Mars, such as some artificial gravity. Because I'm only going to solve your problem for that time. Once you're lying on Mars, you're not going to really have artificial gravity anymore. You're going to have all of those issues that become with low gravity. In addition to, again, the Martian reckless, the radiation effect, a lot of stuff will happen quickly. And Mars especially, once you're on Mars, you're stuck on Mars. For quite a while before you can get back on the moon. The lava tubes take care of the radiation issue. But the lava tubes aren't going to be our first settlement on the moon. Because we're not going to go straight to the lava tube. We're going to put some pressure vessels on the surface as you and I have spoken about many times. We'll cover them. And that's how we'll probably start. But I think that we'll have issues. And in fact, I think the astronauts go to the moon first. I've slated to go for a short period of time, you know, a few months and then they cycle out and they bring somebody else in. And I think to some extent that will give us more time to solve some of the physiological issues. Because we'll get more data with each cycle of astronauts that come back and then we'll try to figure out what to do about the gravity. I mean, the gravity is a big issue because I believe the radiation can be taken care of and the regular is going to be taken care of in principle. But the gravity, you know, is a real complicated issue. You have an email from Todd in San Diego and he says, Hi, am we making faster progress with the engineering and technical problems for transportation? Rather than the medical, emotional and life support issues, could it be that we're ready to go way before we're really ready to go? So do we go with on-the-job training? Do we go with just short turnaround missions if we're technically ready first? And it sounds to me like you seem to think we're going to be technically ready first. Right. That would say that's a good point. We are going to be technically ready first. And there's going to be outstanding physiological and psychological, psychological, social kinds of issues that will be unresolved and we'll have to be gathering data on the moon until we figure it out. And in a way, it's probably good that we're going to be cycling astronauts through and maybe through our cycles, between six months cycles, gathering data and what happens to their bodies during that time when they come back. And we get data and we send another team and we keep doing this probably for a while, I think. I try to think, say we have for somebody's habitat on the moon, how long will it take before somebody is going to really move to the moon permanently? We talk about, basically, pressure vessels that are smaller than an average bedroom. Can somebody live in that forever? So I think if we think about the progression of the kinds of habitats we're going to have on the moon, pressure vessels to inflate the balls, they've got a lot more volume to maybe even larger ones that be eventually lava tube. You know, big volumes back to take a fair number of years before we go through those generations. And until then, go ahead. Yeah, until then we're not going to be living permanently on the moon. People live in small jail cells for life sentences. Of course they go to a dining room and maybe go play out in a backyard, but they're confined to, I don't know what the size of a jail cell is, but those are small. And they usually have a roommate. Right, that's a coercive environment. I think here we're talking about people choosing to do this. And maybe there are people who are willing to do that just to be in that environment because that's all they care about. I think it's going to be very hard. If not, physically, definitely psychologically, it's going to be very hard on people. And if you have just a few other people with you, you know, we're talking about really cramped quarters. We're talking about always a situation where you're essentially in a life where death situation. And obviously on the moon, you know, or Mars, you never out in the open right here, always in the space. So if you go out of the habitat, so you're always sort of so rampant by technology and this very close quarters that some people really would have a hard time with. Very in Tucson, as you just for the first time mentioned space, it says my question. What's the progress for lunar or a Martian space suit that works and protects and doesn't deteriorate? So I'm not super expert on that, but I have seen a few papers on it and they have made significant advances on them. Making them more radiation resistant, making them more easy to walk in, you see it in something that is quite constraining. Like the nation and the man. Yeah, that's right. So there is progress on that and I know there's a lot of research on that as well. So I think that the spacesuits of the first generation on the moon will be a lot different than the ones that were on the surface of Apollo era. I have a lot of listeners, a lot of callers and emails, and a lot of people who post comments on the blog when these subjects come up. And they say, Artemis stinks because they're cycling astronauts there for a short period of time and we should be building a permanent president on the moon. And we could do this now if it wasn't for the crappy gateway and all of that kind of infrastructure and methodology for getting to the moon and then being picked up and only inhabiting the gateway for a couple of months of the year. And that we're ready to do lunar permanent scientific outpost right now. And what do you say to them? I'm sure you've heard that before. Yeah, I think it sort of takes us back to what we were just talking about before. And it would be technically able to get to the moon and put habitats there and peculologically be on the moon. But what happens when we have the first accident on the moon or somebody cuts themselves and surgery. We're talking about an environment that's extremely dangerous and it'll be dangerous for a long time. And so I think we need to figure out how to do this for the long haul. We don't want to do something and then astronauts all die on the moon, for example. So I think we have to build a bit more realistic about something like this. And it's never only technology. It's the body, how did that. And there may actually be things that we aren't even aware of for the moon. Because we've been in the space station, I think, a maximum about a year. And we saw some major degradation of the human body and even genetic damage. So it would seem to me that if we care about space and we care about colonizing the solar system, which I do care about, and I think it's very important, then we should do it for the long haul, even though we all would like to be alive when the point is happens. And probably we'll be alive for the landing on the moon and some astronauts living there for a few months in the pressure vessels. I'm not sure, you know, in my take, I think each generation of habitat would fly up in the middle of five to ten years. So we're talking about a couple of decades before we get to something that the habitats are really spacious. And people can live there for a considerable amount of time. But you know, I keep coming back to the low gravity. And I'm not biologist. I really can't say I'm an antibody nurse, how to solve that problem today. But I really think that by being on the moon, we'll get a lot of data. And I'm confident that something will be developed. And I think given the advances in all kinds of genetic engineering and just understanding the human body down to the atomic level, that we may be able to re-engineer the human body so that it can actually survive the data effect of the low gravity. So maybe some genetic engineering is how we solve the low gravity problem. You have a note. And listeners keep reading the emails, but our phone line is available if you want to. Talk to Dr. Beneroyia tonight. You can talk on a different subject if you want. We don't have to stay with this one. Telephone number 866877223. He's up for calls on almost any topic. Randy in Phoenix says, look at that. Ask and so you shall receive. Let me do this Randy email real first. Listen, please. Hold for a couple of minutes. Randy in Phoenix says we have a rough human's to Mars. Goal of around 2030. Clearly we're not going to be anywhere as close to having the solutions that you've been talking about for 30 or 40 minutes by 2030. So is a quick trip to Mars, flags and footprints, I guess, and a quick comeback. That's a guess about a total of three years if we're using a typical chemical rocket. Is that going to be okay to make? Not by what we know today. If it's going to be using the spacecraft that we're seeing coming off the SpaceX manufacturing plant and the NASA manufacturing plant, then these are standard rockets. And I don't believe that they're going to be creating an artificial gravity on the way to Mars. So we're talking about at least for a 9-1 to get to Mars in a microgravity environment. That's almost as long as people stand on the space station and come back after a year and have to be carrying out of the stretchers. So that doesn't even include all the risks that we would find just landing on Mars and walking around on Mars regulates all kinds of issues that we have on the boat as well. And not to mention that to just go and plant the flag and it has to spend a good number of months there. So it's going to be a long time on Mars. So they could probably do a lot of stuff. But I think it's a super high risk trip in 2030. It's almost like a one-way trip really. Let's see who your caller is. Good evening, caller. Welcome to the space show Dr. Ben Roya. Who are you and where are you, please? Small intro. And my question was, I remember there was an artificial gravity unit that was supposedly built through the International Space Station. As I recall, the Japanese were supposed to build it. And it never got to the space station. What happened to it? I don't know. I know what happened to it. If you don't mind. It challenged or happened. And then they never launched it. It reported is in Japan. And it never got launched. Now, Obama called for all this inner infrastructure program. If you remember that. And part of his infrastructure included space. And part of space was to have a zero gravity, an artificial gravity or zero gravity kind of rotating or solution experimental. And we all know how well that went. But I understand that artificial gravity module was ready to go and had it not been for Challenger. It would have gone. And then it was no longer a priority when the shuttle started flying again. So it's not been done. And there are tiny centrifuges on the space station. You've heard us talk about a couple of Japanese rodent experiments in that. And I think there's been a fish experiment with gravity somehow and something else. So there have been a few really tiny, very limited artificial gravity experiments on the station, but hard to extrapolate from them to anything to do with humans. Although mice are mammals. So that at least shows it. I think within five days embryos were not destroyed. So that that may be useful. But far more information would be be necessary. But sorry, Marshall. It never got off the ground. And that leads into the next question, which is, gee, the space shuttle wasn't all that big and starship is supposed to be a lot bigger. Could it be alluded on to starship and eventually delivered? Who the hell knows? I don't know. I don't even know if it's ever been proposed. Yeah, the artificial gravity system. Remember, the space station is supposed to be discontinued around 2030. And then you've got the private stations that are going in as far as I know. There's only one private station that is considering rotating. And the others are not rotating. I'm not the best on this. If Dr. Lurio was available, but he's in Italy right now, he is up on this and writes about it in his Lurio report newsletter. There may be another caller that is more current on the private space stations in which one is doing which. But I don't delivering an artificial gravity situation to the space station when it has such a limited life doesn't seem like it's a good, bad economically. Yeah, well, it better than nothing unless you're paying for it with tax dollars or if you're a commercial company, you certainly wouldn't probably even get a return on your investment in the years remaining before the space station is de-orbitant. So if you throw economics into it, it's not better than nothing. I'll have to wait for somebody else with an expert opinion, I guess. And Jill makes my friends. Nothing else, Marshall? That's it. Yeah, I'll be percalling. Okay, thanks a lot. Listeners, you're welcome to follow Marshall's call and give Dr. Ben Rurio a call. 866-687-7223, Dr. Logan, and other people that I think Dr. Logan was the first person to educate me with the saying that you'll know. That you'll know when NASA gives a damn about humans beyond Leo when they figure out the gravity prescription because we're going nowhere until the gravity prescription is figured out. And since the gravity prescription has not been figured out and since NASA is not working on that, then according to the Logan philosophy, NASA doesn't give a damn about human space flight beyond Leo. There may be some truth in what Dr. Logan has been saying for 20 years. Yeah, I wonder if the Chinese were going to go with humans at any more besides how they saw it or they also don't care about humans. Well, I'm sure they don't care about a large portion of their human base, as we know. But I don't know. Their space station doesn't spin. I don't know if they have any plans for artificial gravity. I'm not up on what the Chinese are planning to do. They are planning humans to the moon and they're planning on a presence at the South Pole at the moon. So how they're going to deal with it? I mean, the Chinese are going to be subject to the same medical considerations that Westerners are going to be considered. So whether they dismiss that and don't care or whether they've got solutions, I'm not the one to ask, but maybe a listener knows more about the Chinese program and their human medical space flight concerns and technology than I do. And we'd love to hear from you if you want to give us a call at 8. Yeah, the artificial gravity thing with the centrifugal forces really is an ideal system. If you have large space stations, you know, huge rotating cylinders. People could live on the inside and it would feel like you have the real gravity and you have very large expanses. But once you're on a planet, everybody becomes really problematic to have these locating systems. Because as you know, depending on where you are in that system, once you move around, you get very disoriented that the gravity changes on you because you're a different distance from the center. So it's a really complicated thing. I do know that there are, I think, two companies claiming to be building spinning artificial space hotels. And one of them I read about today and I don't remember the name of it. Maybe I read about it yesterday. It claims to be in space operating in five years, which I think is pretty generous. But that is their plan. I can't remember the name of it. I could probably do a Google search and find it. But whether any of that really happens, I don't know. But I do know there are at least two companies planning on artificial gravity spinning space hotel life structures with a short timeline. Okay. So that will be very interesting. Dear graduate students, ask questions outside of the engineering world that they're learning and being educated in. Do you deliberately bring it in the main one and the other stuff? How does that work with teaching your students? Well, I teach your course on learning how to pass. So I go through it's basically a systems course that go through all the different topics that are related to having a habitat on the moon. And I talk about the non-engineering aspects pretty early. And then I go into more detail later on. So they're pretty knowledgeable. But sometimes they finish my course and they'll be more sophisticated than the average person thinking about going back to the moon. So I make sure that they get all the great stuff and all the huge risks that go along with trying to do this. You have another email question. Bobbi is in New York. And listen, we'd love to get more phone calls from you. 866-777-223. And Bobbi in New York says on David's last open line show, somebody called in and said they had worked out the numbers and the plan for doing something on Mars. I forget what it was, but they've already worked out the numbers and they have it. And this of course was a space advocate who called in. And so they worked out the solutions for it. And after that call, David made the comment that it was most interesting that space advocates call in from time to time. And claim they have worked out the solutions for this and that and have the number. But then when you see a mission actually get flown and operated, it has nothing to do with the solutions that advocates have worked out. And he wanted to get a guest on that could talk about the level of due diligence, number crunching and what goes into planning a real mission and checking everything and being able to get it to operational standards. Because it doesn't seem to me that the advocates who claim they've worked it all out, they're not engineers, they're not mission planners. And maybe they have good ideas, maybe they don't. But they're blowing smoke. And I would like to know if you have been involved in real mission planning and what are the layers of due diligence and analysis and number crunching you go from an idea concept to operations. Right. Well, I haven't personally been involved with this and planning. I think each of course the semester on spacecraft design and mission design. Sorry. I know a little bit about it. I would say the number of layers of analysis and testing and qualifying any kind of technology that's going to carry you into space. And it's a tremendous, tremendous effort. And people always complain about NASA to slow with new rockets and new technologies to get people into space. And the reality is that all the stuff is super complicated. The rocket design is super complicated. The rocket engines, you know, if you look at the plans for any of this technology, if you're looking at something that's hugely complicated, even some simple things like reaction controls for, for, for, out of control of a spacecraft that pellets that we put on space telescopes. Just looking at one of those things, you can see all the different layers of technology that make that work. And then it's software that goes along with that. And then some materials have to be the right materials. You have to worry about heating up in the rocket. And how do you get rid of heat space when you don't have an image to get rid of it? So there's a whole, a whole area of engineering just for thermal design. So I would say this, you know, there's the old thing. It's rocket science. And there's a reason why they say that because it's really complicated. And it's, and it's 10 times more complicated and 100 times more expensive. If you're taking humans into space. So I would say, I would not, I would not criticize the pace at which we're doing things. Obviously, if we spent more money and we had the set of one NASA, we had several NASA's working to go quicker. But I would say given the funding that NASA has, it doesn't from a disk job. And, you know, if we look at space eggs and blue origin, a lot of these space companies, I have a lot of respect for them as well. But the reality is also that they're building off of technology that has already been developed. I mean, they're developing new technology too, but they're starting on the 100th floor. You know, they're not starting at ground level. So the fact that they're able to do what they're doing, which is fantastic, is because there's a lot, a lot of already been done behind them. A lot of the research has been done. So I would go ahead. Yeah, so I would say I would not be critical, but I would say that it's really super complicated. So let's take SpaceX building the Artemis human lander. So this is a SpaceX responsibility, but we, we do know that NASA is providing oversight and information. So SpaceX claims and put in a bid where they could do this a lot cheaper and a lot faster than NASA doing it in typical NASA fashion. And I have no doubt the private sector can move faster and often has lower costs. Is the fact that this is going to carry humans? Is the mission planning the design or the processes, the layers of due diligence, the software, the material? Is it similar to what NASA does? Or do the entrepreneurs have a formula that allow things to be done faster, cheaper, better, and just as safe? The bottom line is we're talking about science and engineering and there really aren't no shortcuts. So I don't believe that SpaceX can do it faster, cheaper, better if we're talking about putting humans into space. Because if they're developing new technologies that NASA hasn't, you know, they're starting from scratch on something, they have to go through many layers of testing and verifying and making sure that it's reliable. It's a real challenge to build something reliably for space when you don't have the ability to do a lot of testing. I mean, the testing alone requires a tremendous effort and facilities and probably they can use NASA facilities for testing. But there really is no shortcut, I believe. I believe that it's just that complicated and you have a lot of systems that have to work together that have to communicate, that have to work. Many times say you have a system with 10 different components because the design is component separately and it works perfectly. And then you put them all together into the larger system and it doesn't work together. So it's just a complicated thing to go through, especially when you're talking about humans that are inside and you have all the life support systems. You have a whole layer of technology that is there to just safeguard the people. Email from Bill in St. Louis and again, let me remind everybody that we'd like to get your phone calls and we're coming up on the hour, but we still have time for more calls, 866-687-7223 Bill in St. Louis. So David, take the example of SpaceX Dragon capsule. How many flights did they make with the Dragon carrying cargo only? How many test flights did they have to make with the Dragon before they could be okay to carry humans to the space station? That should give you an idea of the kind of due diligence in checking and development and oversight that they had to go through to be able to do that. Even though Dragon was already flying as a cargo vessel, I would imagine that for SpaceX to build the human lander for Artemis, their processes are almost identical to what NASA would go through, except private companies work with different labor costs and do other things differently, which is why they can do lower cost projects and the government with the same kind of quality and risk tolerance. Just think of the Dragon and then the human carrying Dragon and you'll get an idea of that. And time, you have another phone call, so let's say, okay, good evening, Collar, who are you? Where are you? And thank you for your call. This is John and forward. Hi there, John. Well, I think, though, we talk about these human factors, at least for exploration, I'm not sure about settlement. It's what we really need at this point. It seems to me to put a lot more focus on developing advanced propulsion techniques. I mean, if we're going to rely on things like chemical rockets or we just don't have, I mean, you can't get there fast enough to avoid these problems you're discussing with human factors. But if you get increased the speed to the point where you travel time, it'd be reduced a few weeks to go to Mars, then it becomes much more feasible. Yeah, I agree with you. And there are some of these advanced propulsion technologies that are being developed. I'm not sure that any of them are really ready for usage, although maybe some of the small nuclear reactors that they're developing might be... might be possible to get faster speeds and thereby short-cutting the time to Mars. So I agree with you, that would definitely make a lot of things more feasible. Of course, I would require some investment, R&D money and so forth, but the focus on doing that, because I mean, to make that more... Isn't going to be a reality immediately. There's some technology that would be perfected before you can do it. I understand that. Right. I definitely agree with you on that. But it seems to me like that other than some modest efforts, you know, that this doesn't seem to be that's a real focus of either NASA and it's sort of outside of scope of what Elon's doing because it would require probably nuclear technologies that are not... Private companies really don't have access to. No, but they might have access to fusion technologies because then they're not using fissionable materials, used in a bomb. So if fusion progresses and many people, as you know, that we've had on from the fusion companies, have sort of estimated maybe aggressively, maybe not 10 years before they're... That break even and can possibly think of in space fusion, they do say that in space fusion will occur faster than grid power fusion for Earth. And they explain why that is. They're two different fusion systems, but the privates can work with fusion. And I don't think any privates can get a hold of the... and control fissionable material, which goes into a fission reactor. So I may have to be corrected on that and I'm willing to be corrected on it, but I don't know of any private country, companies other than the private companies that do projects for DOD or DARPA or, you know, who knows the atomic energy groups or something that can get a hold of fissionable. And then they're doing it for government research and government projects, not for commercial projects. Maybe I'm wrong on that. Do you know John or crime if privates can get a hold of fissionable material for experiments with propulsion? I don't know specifically. I would assume that the companies that design nuclear reactors like GE and Drones, Rosary, some of those may have access, but it probably is right. Right, specific and very tight control. Yeah, it's tightly controlled, it's highly regulated and it's supervised by the atomic energy groups. And it's a whole different story of how they get it for their reactors. But I don't know that there's any space rocket companies working. I know there's work being done on fission propulsion, but it's being done at Marshall Space Flight Center and the Idaho National Lab in places like that. And companies under contract to these organizations with very tight specific controls. Unlike fission, whereas we see fusion companies bring up every place and getting a boatload of funding, I think they've gotten over the last couple of years. A couple of billion dollars worth of funding collectively over a couple of years. A group out of MIT pulled in 500 million dollars of funding. So these are private concerns for fusion power for space and some of them are doing dual for fusion power for the grid. But again, they're not engaging in fissionable materials for a bomb. So I think we might see more private sector progress on fusion than on a fissionable nuclear rocket. Although NASA is supposedly with DARPA and other agencies working on a fissionable nuclear propulsion rocket, maybe we'll see it happen within a few years. They already know the technology. Remember they did that back in the 60s and then nixing loads of the project. But if we had faster transportation kind like John is suggesting, how would that mitigate your first 30 minutes? And litany list of complexities and risk and challenges with the faster transportation probably wouldn't mean much going to the moon. That might mean a lot for going into orbit or going to Mars. How would that mitigate your list? Well, certainly the last time you're in microgravity or low gravity, the better. But if we're talking about the moon and we're talking about a short duration, that's a good thing. But if we're talking about Mars, we still have, I don't know how it changes the launch wind does for Mars, having a faster rocket and how it's feeling. It would change that as well. But we're still talking about a pretty long time in space and on Mars with a lower gravity. But maybe, you know, if we accepted, for example, having a solar panel on the space that's for up to a year and they come back and they survive, then if you can do around for tomorrow's in a year, then maybe that would make it sort of as dangerous as going through the ISS in some sense. So it would be, it would be, it would be an appendage, obviously. Many people believe Mars gravity will prove sufficient for humans that you can't be on the surface of Mars. So you're still inside the starship or you're in a lava tube or you're in some kind of structure on the surface. Right. Because you're not going to survive even in a Mars space and they claim you won't be able to be on the surface very long. Right. You have a lot of the same issues as on the moon. People like to romanticize about Mars that it's almost Earth-like, but it's dangerous in some ways and more dangerous in other words than being on the moon. But I think that, no, I don't know the latest literature on the gravity effects on human bodies, but in the past I've read where some have thought that they don't know whether it's a gradual effect like Mars is roughly, it's 3-8 SUG, the moon is 1-6 G, it is 3-8 G better and cause less problems or already hit that we're so evolutionarily tied to 1G that 0.9G would be notorious. So that's also, I think, a question. John, any other comments? Well, I would tend to think that, well, I think something like 0.9 would be that bad, but maybe I'm wrong about that. But you get, I mean, there's a big difference between even the 38% on Mars and really being an effectively 0G environment in orbit, you know. I mean, at least it's a major orientation downward of everything which I think is one possibility, but long term, it's probably, it's probably a scale I would assume, like, you know. Like radiation, right? Yeah, it would still, it might not be good forever, I guess, to be the point, right? You're right, Paul. That's right. Yeah, well, I think that's an genetic engineering is going to have to help us, help our bodies adapt. Well, that's certainly a possibility, but that's going to definitely be a long term project in that case and that's going to have a lot of other issues going to get into it if we have to do that, you know. Yeah, definitely. So, John, did you hear the show with Tiffany when we taught, and she's the medical biologist for space and talked about the difficulties with genetic engineering that we can't even do it on Earth yet? Yeah, yeah. I did hear that, yes. I thought I'd say that it is a long term issue, I guess it becomes something that one would have to think about. Anyway, it's an interesting prospect, but it's a lot more difficult than they old high-line juveniles back in the day. Guys, I just got another tweet from Musk in SpaceX, and he says he's writing starship for Friday and thinks that there's going to be final approval in time for his life. In time for his Friday launch, he does not give a time for a Friday starship demo flight, but he says he's, we've just been improved that the approval for the formal launch should happen in time for our Friday launch, and we are readying starship for the launch. I hope that will be on on Friday. And if anyone want to take a benefit, it makes orbit or not, or if the water dilute system works, time, do you think it'll make orbit and did the water dilute system handle the engineering correctly and will it work? Well, I would bet that they do better than last time. That's a safe bet. You know, to be pessimistic and a musk will show us, right? Well, I've been pessimistic on him for a long time, and he's been outperforming every time. So, John, I'll be keeping doing it. So, you're bet, John, you think he'll the dilute system will work and he'll make it to orbit? Well, it might do better on the takeoff, but when he makes it to orbit or not, I'm not sure I'm going to bet on that. Obviously, I guess if he gets through the staging, then probably he'll make it to orbit. Yeah. Don't that we don't have some have gun hoe guys here right now tonight. But it's not a lot of testing of the orbiting part of it, so I would think that that will probably work for you successfully stages, right? Yeah, so I don't have any time, he didn't put any time in the tweet, so but we'll all not just hear on the space show, but everybody will be glued to that to see what time. And hopefully it'll be at a reasonable time so that I can see it, and we don't have to get up at three in the morning on the west coast or some crap like that. Right, that's right. Well, John, anything else? I guess I'll be up for now, but that was up to what for to. Okay. Thank you. Thanks, John. Lissor's were past the hour we promised with Dr. Ben Roy, I'm going to begin to conclude and close this down, but if somebody's really quick with dialing or sending in a final email, you can do that. But again, you have to hurry. 866-687-7223. How's the interest level of your students real quick? Are they really each? Oh, let's go for all of them. Yeah, a lot of interest. They really are super excited about getting jobs in the space industry, and many have. Many of our students have gone to NASA, have gone to SpaceX, and who are as well as a lot of all our aerospace companies. They really are doing well, and we're all excited for them. Are they men and women, people from outside the US? What's your student mix like? It's mostly Americans, but there are people from outside the US. We have a very large student undergraduate student group that includes everything from sophomore to seniors. There's about 50,000 of them, about 50, 50 men and women. They have various projects. They have a building in sheep's hat. They're building robotics. They're building a weather balloon. So these guys and girls are really super talented. I think a lot of them will do great things in the future. They almost all of them go to grad school or do some of them go to a directly-to industry. I think it's mixed. I think a lot of them are really eager to go to work. So I would say probably maybe 20-30% go to grad school, mostly from NASA's degrees, and they look for good jobs. Henry has a quick email. We'll take it, and then we'll include Henry's in Denver. And he says, David, hopefully you won't bust my chops for asking a somewhat political question. I'm wondering what the attitude and makeup is of your engineering students. Are they into all the woken, crazy stuff that we hear about and see on TV and the liberal arts community seems to have? Are they much more serious about education? Well, yeah, I think the truth is we don't really talk much about politics or with the engineering at least not formally. I don't see the kinds of anger that might seem more in liberal arts disciplines. I think they're really eager to accomplish something. And I think they're very much into working hard and making their own way and achieving. So in that sense, I guess, the anti-woke, they want to... they have their individuals, so they want to achieve something. So I think that's maybe a little bit different than in other parts of the university. So they're driven to have projects in work and go into the space community? Right. Right. They're very driven, and they want to get working. So I think those are all good signs, and I would say many of them are quite brilliant. The really driven ones have been driven long before they got to college. So they have a super education in high school, they've got a technical high school, they come into college. With a lot of skills, they can build things, they can design things, and even a freshman. So I think they give us hope. In terms of that litany of challenges that you presented, do you see resolution or enough of a resolution for us to really be actively preparing for space settlement in any kind of reasonable timeline? I'd give 10 years as a reasonable timeline. I think that if we're talking about cycling engineers, then we can, sorry, cycling astronauts, then I think we can put people on the moon for extended stays, and then start cycling them, and then start bringing the infrastructure to the moon so we can expand our settlements. We have additional data that we need to figure out some of this, such as low gravity effects, maybe hydro, make us a little bit less susceptible to radiation effects, that sort of thing. So I think it's doable. I just think if we're talking about permanent settlements, then I would say we're in a hard to give a guess on that, that might be several decades. And having people on the moon working there for an extended period, then coming back to Earth, then I think that's a, on the horizon really. So several decades, even for permanent settlement on the moon? I would say so, because we're talking about having enough infrastructure there so that it can be more or less self-sufficient for a set of periods of time, and that they won't have any serious, difficult, taving effects. And if they can be there permanently, we have to have a medical infrastructure, we have to have ability to grow food, we have to have all kinds of abilities to do that, and not depend on a ferry service from the Earth to keep replenishment. So we have that ability, it'll take many, many flights to get the kind of stuff that we need to build a permanent infrastructure that can be self-sufficient on the moon. And then Mars, in your opinion, comes after that. Is that correct? Or simultaneously to it? Yeah, definitely. Definitely later, and definitely I would say, except if we're talking about just planting the flight and coming back then, I would say again several or decades. A lot of people won't like that. Yeah, I know. I mean, I think Mars is too far and too expensive to just go and plant a few flights and they get you home, so I think we want to be able to do something much more than that when we go back. So final question for those that believe O'Neillian colonies are the answer to these questions because they can rotate it at 1G, which is what we have here on Earth, where are we engineering wise for O'Neillian colonies? Oh, I would say probably maybe 150 years. Why are you pushing that out? No, those colonies are for a quarter million people. Well, but you can make them smaller, right? Well, the challenge is to make them smaller. You have to have a certain diameter and a certain rotation speed. If you don't want to have a huge rotation speed, then you have to have a large diameter. And then we're talking about a very large space structure, construction project in space. So we saw how long it took to do the ISS, which is like purely my comparison to what we're talking about with O'Neillian. So I guess if some of these rotating space hotel projects actually get built and operational, then they would be smaller O'Neillian colonies. If that really materializes, and I'm very skeptical, then I would think that would be a real breakthrough for spinning capsules in free space, smaller than an O'Neillian capsule. Yeah, I mean, it would have to be very small to be built in the entire area. Yeah, but then everybody's going to get sick as crap with the rotation. Yeah, I mean, I don't know what the tolerances are for that, but I know a lot of people will get nauseated and dizzy and have real problems in it. Oh, yeah. And you really can't walk around the industry in a very small rotating cylinder. So if you go the wrong way, your total perspective changes and gravity changes. So it's a lot of getting used to working around in an artificial gravity. So surface structures and habitats in your opinion will come far before O'Neillian structures? Oh, yeah, definitely, definitely. Unless it's a major breakthrough, I think there's no way that we're going to have something that large. It could take 20, 30 years just to build it if we knew how to build it. And we don't know how to build it yet. We don't know how to build them yet. And how do you power the rotation? Do you need nuclear power or solar power? Well, certainly solar would help, but I think you need more than just solar. So, it's just not enough because to get them out of the solar power to do that, you probably need a solar panel that is larger as large as the spacecraft. Look how large the solar panels are on the ISS. They're pretty much on the same scale. So we're talking about the solar panels that could be thousands miles long for one of those quarter million people to look at space craft. I won't be around to see it, so I guess I can't worry about it. No, but the nice thing you can imagine and talk about it. Absolutely. Everything we're talking about will happen. Somehow these problems will be solved. So whether it happens in 10 years, then we'll see that, or 50 years, or 100 years, we can... I think we know the trajectory. We just somehow exactly how it will be solved. That's a good way to leave it. Anything we should have talked about that you wanted to, that we omitted or forgot? No, I think we should be optimistic, I think, even though we're talking about our own problem. I think I would like to leave it on an optimistic note that I know that we can solve these problems. But I think some realism on the scale of the problems and the effort that's required to actually succeed at solving those problems. The realism will be a good thing. Yeah, I always say we need to be grounded in reality and not La La Land thinking or magic. Right. Jim Locke uses a term magical thinking. Right. And I have a lot of respect for Jim and his knowledge and what he talks about. Right, absolutely. All right, well listen, let me wish you and your family a great Thanksgiving and following up with... Honakant in the holiday season in the New Year's and I'm sure we'll be in touch by telephone and email. Absolutely, see you as well. Thank you for stepping in tonight when the planned guest had a scheduled conflict and left for Europe. So I'm glad you're available. I appreciate it. Probably a better show than we would have had otherwise anyway. So we will be in touch and listen for those of you who called and for those of you who emailed in. Thank you very much. And on behalf of Dr. Beneroy, myself and the space show, everybody have a great rest of the week. The week is just starting. So there's a lot of good week to have ahead. Be careful, be healthy, stay healthy. And as always, keep looking up. Once again, goodbye for prime David and the space show.\""
      ]
     },
     "execution_count": 23,
     "metadata": {},
     "output_type": "execute_result"
    }
   ],
   "source": [
    "results['text']"
   ]
  },
  {
   "cell_type": "code",
   "execution_count": 19,
   "id": "b841e0aa-ccd6-4e90-a48e-2c38894f76c7",
   "metadata": {},
   "outputs": [],
   "source": [
    "whisper_model=whisper.load_model('large-v3') # Largest free model. It's multilingual\n",
    "option=whisper.DecodingOptions(language='en', fp16=True) # fp16 is for GPU, fp32 is for CPU\n",
    "results_translate=whisper_model.transcribe(\"Jul_i_Angora.mp3\", task='translate')"
   ]
  },
  {
   "cell_type": "code",
   "execution_count": 20,
   "id": "3e3d9cdd-5141-420d-81c5-065a749edd08",
   "metadata": {},
   "outputs": [
    {
     "data": {
      "text/plain": [
       "\" Christmas So it's Christmas. It's time for happiness Snow is falling in Angora's land I'm going home to brush my clavire Sounds good My talent is something that impresses And when you have drunk Christmas beer in an extreme amount Come on, come on That's easy, that's easy, that's easy, that's no big deal Now it's Christmas in Angora We'll go down with mom to Mom's Yes, we'll go there, but also home to dad Now it's Christmas in Angora We'll go find Oh yes! And scores! Ha ha ha! Where are we going? We're going to dance on a tree! Chut, pud, njø, huv, røft, i, død, død, id Hold your head! What do they say about fat, pink pigs? Ud trelle, pakke, agi Simon is a dumb, dumb, dumb, dumb, in What? Pretty face! I control your Yes! No! It doesn't work at all! No, no, no! Now it's Christmas in Angora We're going to have food with our lords No, we're not going to do that We're going to have Christmas Eve Now it's Christmas in Angora Oh, my mother is so stupid Yes, we know that It's not our problem Oh, a small problem Hello, dad! Hello, Ian! Hello, Flemming! I came to help you with the Christmas tree No! We just came with a million wishes I'm happy to have you Oh! Oh! I'm happy to have you, my dear Now it's Christmas in Angora My brothers are big Yes, it's Christmas time So if you're a newbie Now it's Christmas in Angora Well, then it should be a million Yes! Christmas in Angora Great Christmas! I wish you all the best Happy Christmas! There are a lot of people here I wish you all the best Happy Christmas! Merry Christmas! I wish you all the best Happy Christmas! Subtitles by the Amara.org community\""
      ]
     },
     "execution_count": 20,
     "metadata": {},
     "output_type": "execute_result"
    }
   ],
   "source": [
    "results_translate['text']"
   ]
  },
  {
   "cell_type": "code",
   "execution_count": null,
   "id": "1624f634-0b19-4f66-9a6a-728f4cd16c81",
   "metadata": {},
   "outputs": [],
   "source": []
  }
 ],
 "metadata": {
  "kernelspec": {
   "display_name": "Python 3 (ipykernel)",
   "language": "python",
   "name": "python3"
  },
  "language_info": {
   "codemirror_mode": {
    "name": "ipython",
    "version": 3
   },
   "file_extension": ".py",
   "mimetype": "text/x-python",
   "name": "python",
   "nbconvert_exporter": "python",
   "pygments_lexer": "ipython3",
   "version": "3.11.4"
  }
 },
 "nbformat": 4,
 "nbformat_minor": 5
}
